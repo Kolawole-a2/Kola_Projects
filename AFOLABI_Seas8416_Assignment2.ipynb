{
  "nbformat": 4,
  "nbformat_minor": 0,
  "metadata": {
    "colab": {
      "provenance": [],
      "toc_visible": true
    },
    "kernelspec": {
      "name": "python3",
      "display_name": "Python 3"
    },
    "language_info": {
      "name": "python"
    }
  },
  "cells": [
    {
      "cell_type": "markdown",
      "source": [
        "**Question 1:**"
      ],
      "metadata": {
        "id": "vogMC5__FhET"
      }
    },
    {
      "cell_type": "code",
      "execution_count": 3,
      "metadata": {
        "colab": {
          "base_uri": "https://localhost:8080/"
        },
        "collapsed": true,
        "id": "YAM-XDb85AsG",
        "outputId": "20058d9c-41ae-498f-ef07-a627a2caa0b3"
      },
      "outputs": [
        {
          "output_type": "stream",
          "name": "stdout",
          "text": [
            "25.85\n",
            "212.28\n",
            "9.04\n"
          ]
        }
      ],
      "source": [
        "def weight_on_planet(**kwargs):\n",
        "    planet_weights = {\n",
        "        \"Sun\": 27.01,\n",
        "        \"Mercury\": 0.38,\n",
        "        \"Venus\": 0.91,\n",
        "        \"Moon\": 0.166,\n",
        "        \"Mars\": 0.38,\n",
        "        \"Jupiter\": 2.34,\n",
        "        \"Saturn\": 1.06,\n",
        "        \"Uranus\": 0.92,\n",
        "        \"Neptune\": 1.19,\n",
        "        \"Pluto\": 0.6\n",
        "    }\n",
        "\n",
        "    planet = kwargs.get(\"planet\")\n",
        "    weight = kwargs.get(\"weight\")\n",
        "\n",
        "    if not isinstance(planet, str) or not isinstance(weight, (int, float)):\n",
        "        raise ValueError(\"Invalid input: 'planet' should be a string and 'weight' should be a number.\")\n",
        "\n",
        "    planet = planet.capitalize()\n",
        "\n",
        "    if planet not in planet_weights:\n",
        "        raise ValueError(f\"Invalid planet name: {planet}. Choose from {', '.join(planet_weights.keys())}.\")\n",
        "\n",
        "    weight_on_target = weight * planet_weights[planet]\n",
        "    return round(weight_on_target * 0.453592, 2)  # Convert to kilograms and round to 2 decimal places\n",
        "\n",
        "\n",
        "# Test cases\n",
        "print(weight_on_planet(planet=\"Mars\", weight=150))   # Weight of 150 lbs on Mars\n",
        "print(weight_on_planet(planet=\"Jupiter\", weight=200)) # Weight of 200 lbs on Jupiter\n",
        "print(weight_on_planet(planet=\"Moon\", weight=120))    # Weight of 120 lbs on the Moon\n"
      ]
    },
    {
      "cell_type": "markdown",
      "source": [
        "**Explanation:**\n",
        "1. The function takes keyword arguments (**kwargs).\n",
        "\n",
        "2. It checks if the inputs are valid (planet must be a string, weight must be a number).\n",
        "\n",
        "3. Converts the weight based on the gravity factor of the specified planet.\n",
        "\n",
        "4. Converts pounds to kilograms (1 lb = 0.453592 kg).\n",
        "\n",
        "5. Returns the weight rounded to 2 decimal places.\n",
        "\n",
        "\n",
        "\n"
      ],
      "metadata": {
        "id": "Ty6LhaVAEJz9"
      }
    },
    {
      "cell_type": "markdown",
      "source": [
        "**Question 2:**"
      ],
      "metadata": {
        "id": "UplHqW6SFcCa"
      }
    },
    {
      "cell_type": "code",
      "source": [
        "class Product:\n",
        "    def __init__(self, name, price, quantity):\n",
        "        \"\"\"Initialize the product with name, price, and quantity.\"\"\"\n",
        "        self.name = name\n",
        "        self.price = price\n",
        "        self.quantity = quantity\n",
        "\n",
        "    def restock(self, amount):\n",
        "        \"\"\"Increase the quantity of the product by the given amount.\"\"\"\n",
        "        self.quantity += amount\n",
        "        print(f\"Restocked {self.name}. New quantity: {self.quantity}\")\n",
        "\n",
        "    def sell(self, amount):\n",
        "        \"\"\"Decrease the quantity if there is enough stock, else print an error message.\"\"\"\n",
        "        if amount > self.quantity:\n",
        "            print(f\"Insufficient stock for {self.name}. Only {self.quantity} available.\")\n",
        "        else:\n",
        "            self.quantity -= amount\n",
        "            print(f\"Sold {amount} units of {self.name}. Remaining stock: {self.quantity}\")\n",
        "\n",
        "    def __str__(self):\n",
        "        \"\"\"Return a string representation of the product.\"\"\"\n",
        "        return f\"Product: {self.name}, Price: ${self.price:.2f}, Quantity: {self.quantity}\"\n",
        "\n",
        "\n",
        "# Creating product objects\n",
        "product1 = Product(\"Laptop\", 1200, 10)\n",
        "product2 = Product(\"Smartphone\", 800, 25)\n",
        "product3 = Product(\"Headphones\", 150, 50)\n",
        "\n",
        "# Printing initial details of each product\n",
        "print(product1)\n",
        "print(product2)\n",
        "print(product3)\n",
        "\n",
        "# Performing operations\n",
        "product1.sell(3)  # Selling 3 laptops\n",
        "product2.sell(5)  # Selling 5 smartphones\n",
        "product3.restock(30)  # Restocking 30 headphones\n",
        "\n",
        "# Printing details after operations\n",
        "print(\"\\nAfter transactions:\")\n",
        "print(product1)\n",
        "print(product2)\n",
        "print(product3)\n"
      ],
      "metadata": {
        "colab": {
          "base_uri": "https://localhost:8080/"
        },
        "id": "OA72qpyQ6rQs",
        "outputId": "d4d6e776-669f-4a77-a409-4df12fe50533"
      },
      "execution_count": 4,
      "outputs": [
        {
          "output_type": "stream",
          "name": "stdout",
          "text": [
            "Product: Laptop, Price: $1200.00, Quantity: 10\n",
            "Product: Smartphone, Price: $800.00, Quantity: 25\n",
            "Product: Headphones, Price: $150.00, Quantity: 50\n",
            "Sold 3 units of Laptop. Remaining stock: 7\n",
            "Sold 5 units of Smartphone. Remaining stock: 20\n",
            "Restocked Headphones. New quantity: 80\n",
            "\n",
            "After transactions:\n",
            "Product: Laptop, Price: $1200.00, Quantity: 7\n",
            "Product: Smartphone, Price: $800.00, Quantity: 20\n",
            "Product: Headphones, Price: $150.00, Quantity: 80\n"
          ]
        }
      ]
    },
    {
      "cell_type": "markdown",
      "source": [
        "**Question 3:** To turn the triangle upside down, we need to modify the range function so that it starts from the widest row and decrements down. The modified line should start from rows and decrement by 2 until it reaches 1."
      ],
      "metadata": {
        "id": "2e8bs6TEEGX4"
      }
    },
    {
      "cell_type": "code",
      "source": [
        "rows = 20\n",
        "\n",
        "for i in range(rows, 0, -2):  # Start from rows and decrement by 2\n",
        "    print((int((rows - i) / 2) * \" \") + (i * \"o\"))\n"
      ],
      "metadata": {
        "colab": {
          "base_uri": "https://localhost:8080/"
        },
        "id": "bpNMV4DtFxRB",
        "outputId": "e5baab6f-a2f1-4a06-e8be-7926ccb2eee8"
      },
      "execution_count": 5,
      "outputs": [
        {
          "output_type": "stream",
          "name": "stdout",
          "text": [
            "oooooooooooooooooooo\n",
            " oooooooooooooooooo\n",
            "  oooooooooooooooo\n",
            "   oooooooooooooo\n",
            "    oooooooooooo\n",
            "     oooooooooo\n",
            "      oooooooo\n",
            "       oooooo\n",
            "        oooo\n",
            "         oo\n"
          ]
        }
      ]
    },
    {
      "cell_type": "markdown",
      "source": [
        "**Explanation:**\n",
        "\n",
        "1. Multiplying a string by an integer repeats the string that many times.\n",
        "\n",
        "2. The loop now starts from rows (20) and decrements by 2 (range(rows, 0, -2)).\n",
        "\n",
        "3. The space calculation remains unchanged, ensuring the alignment is correct.\n",
        "\n",
        "4. The result is an upside-down triangle."
      ],
      "metadata": {
        "id": "ZFps2VAoGCuB"
      }
    },
    {
      "cell_type": "markdown",
      "source": [
        "**Question 4: ** **Function with Exception Handling**"
      ],
      "metadata": {
        "id": "_W1u0_-WL4lj"
      }
    },
    {
      "cell_type": "code",
      "source": [
        "def safe_divide(a, b):\n",
        "    \"\"\"Divides two numbers with exception handling for division by zero.\"\"\"\n",
        "    try:\n",
        "        result = a / b\n",
        "    except ZeroDivisionError:\n",
        "        return \"Error: Division by zero is not allowed.\"\n",
        "    except TypeError:\n",
        "        return \"Error: Both inputs must be numbers.\"\n",
        "    else:\n",
        "        return result\n"
      ],
      "metadata": {
        "id": "T9DrTnYnMDDj"
      },
      "execution_count": 7,
      "outputs": []
    },
    {
      "cell_type": "markdown",
      "source": [
        "**Explanation of Exception Handling:**\n",
        "The ***try*** and ***except*** blocks in Python allow programmers to handle exceptions and prevent program crashes. When an error occurs within the *try* block, Python immediately jumps to the corresponding *except* block, skipping the rest of the try block. In the case of division by zero, attempting to divide a number by zero **(a / 0)** raises a **ZeroDivisionError**. Without handling, this would terminate the program with an error message. However, by wrapping the division operation inside a *try* block and catching the **ZeroDivisionError** in the *except* block, we can gracefully inform the user that division by zero is not allowed. Additionally, we can catch other potential errors, such as passing non-numeric inputs **(TypeError**), making the function more robust. Using *else*, we ensure that the division only proceeds when no exception occurs. This approach helps create reliable and user-friendly programs."
      ],
      "metadata": {
        "id": "z1cMnVDGMR6r"
      }
    }
  ]
}