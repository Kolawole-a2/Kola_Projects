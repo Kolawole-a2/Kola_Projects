{
  "nbformat": 4,
  "nbformat_minor": 0,
  "metadata": {
    "colab": {
      "provenance": [],
      "authorship_tag": "ABX9TyMtCKOKTDvQavikfl6Wo+9p",
      "include_colab_link": true
    },
    "kernelspec": {
      "name": "python3",
      "display_name": "Python 3"
    },
    "language_info": {
      "name": "python"
    }
  },
  "cells": [
    {
      "cell_type": "markdown",
      "metadata": {
        "id": "view-in-github",
        "colab_type": "text"
      },
      "source": [
        "<a href=\"https://colab.research.google.com/github/Kolawole-a2/Kola_Projects/blob/main/SEAS8416_AFOLABI_Assignment7.ipynb\" target=\"_parent\"><img src=\"https://colab.research.google.com/assets/colab-badge.svg\" alt=\"Open In Colab\"/></a>"
      ]
    },
    {
      "cell_type": "markdown",
      "source": [
        "Step 1: Setup and Imports"
      ],
      "metadata": {
        "id": "8BcAT3N_vdIJ"
      }
    },
    {
      "cell_type": "code",
      "execution_count": 1,
      "metadata": {
        "id": "JQ_gBqr7vX_B"
      },
      "outputs": [],
      "source": [
        "import os\n",
        "import hashlib\n",
        "import base64\n",
        "import json\n"
      ]
    },
    {
      "cell_type": "markdown",
      "source": [
        "Step 2: Function to Create and Store a Salted Hash"
      ],
      "metadata": {
        "id": "mhB5a3VjvnCR"
      }
    },
    {
      "cell_type": "code",
      "source": [
        "def create_and_store_hash(user_input, filename='stored_hash.json'):\n",
        "    # Step 1: Create a secure random 32-byte salt\n",
        "    salt = os.urandom(32)\n",
        "\n",
        "    # Step 2: Combine input with salt and hash using SHA-256\n",
        "    hash_obj = hashlib.sha256(salt + user_input.encode())\n",
        "    hashed_value = hash_obj.digest()\n",
        "\n",
        "    # Step 3: Encode both for storage (make JSON-safe)\n",
        "    salt_b64 = base64.b64encode(salt).decode()\n",
        "    hash_b64 = base64.b64encode(hashed_value).decode()\n",
        "\n",
        "    # Step 4: Store in a file\n",
        "    with open(filename, 'w') as f:\n",
        "        json.dump({'salt': salt_b64, 'hash': hash_b64}, f)\n",
        "\n",
        "    # Step 5: Print results\n",
        "    print(\"Salt (base64):\", salt_b64)\n",
        "    print(\"Hashed Value (base64):\", hash_b64)\n"
      ],
      "metadata": {
        "id": "oK8QenIEvp9i"
      },
      "execution_count": 2,
      "outputs": []
    },
    {
      "cell_type": "markdown",
      "source": [
        "Step 3: Function to Update the Stored Hash (After Password Verification)"
      ],
      "metadata": {
        "id": "On6pODajvjwQ"
      }
    },
    {
      "cell_type": "code",
      "source": [
        "def update_hash_if_verified(old_password, new_password, filename='stored_hash.json'):\n",
        "    if not os.path.exists(filename):\n",
        "        print(\"Hash file does not exist.\")\n",
        "        return\n",
        "\n",
        "    # Load stored salt and hash\n",
        "    with open(filename, 'r') as f:\n",
        "        data = json.load(f)\n",
        "\n",
        "    stored_salt = base64.b64decode(data['salt'])\n",
        "    stored_hash = base64.b64decode(data['hash'])\n",
        "\n",
        "    # Hash old_password with stored_salt\n",
        "    hash_check = hashlib.sha256(stored_salt + old_password.encode()).digest()\n",
        "\n",
        "    if hash_check == stored_hash:\n",
        "        print(\"Password verified successfully. Updating stored hash...\")\n",
        "\n",
        "        # Create new salt and hash for new password\n",
        "        new_salt = os.urandom(32)\n",
        "        new_hash = hashlib.sha256(new_salt + new_password.encode()).digest()\n",
        "\n",
        "        # Store new salt and hash\n",
        "        data = {\n",
        "            'salt': base64.b64encode(new_salt).decode(),\n",
        "            'hash': base64.b64encode(new_hash).decode()\n",
        "        }\n",
        "\n",
        "        with open(filename, 'w') as f:\n",
        "            json.dump(data, f)\n",
        "\n",
        "        print(\"Hash updated successfully.\")\n",
        "    else:\n",
        "        print(\"Incorrect password. Hash not updated.\")\n"
      ],
      "metadata": {
        "id": "2P0q8B3Pv3zC"
      },
      "execution_count": 3,
      "outputs": []
    },
    {
      "cell_type": "markdown",
      "source": [
        "***Step 4: Example Test Run ***"
      ],
      "metadata": {
        "id": "FCfUQKdvv9AV"
      }
    },
    {
      "cell_type": "code",
      "source": [
        "# Get user input\n",
        "initial_password = input(\"Enter your initial password: \")\n",
        "create_and_store_hash(initial_password)\n",
        "\n",
        "# Try to update\n",
        "old_pass = input(\"Enter your old password to change it: \")\n",
        "new_pass = input(\"Enter your new password: \")\n",
        "update_hash_if_verified(old_pass, new_pass)\n"
      ],
      "metadata": {
        "colab": {
          "base_uri": "https://localhost:8080/"
        },
        "id": "yE-eHJUnwCAK",
        "outputId": "9f2cde81-ba5f-448c-d419-4c992f71adcc"
      },
      "execution_count": 4,
      "outputs": [
        {
          "output_type": "stream",
          "name": "stdout",
          "text": [
            "Enter your initial password: Administrator123@\n",
            "Salt (base64): SzfSiwoW4nIco8QJVObV07/D//u4qZtp0qnNJm4/NV4=\n",
            "Hashed Value (base64): RHg2k70XOvElp6nOLbtI1Y02DyP0kwmM2vw56w/5mpw=\n",
            "Enter your old password to change it: Administrator123@\n",
            "Enter your new password: Admin456#\n",
            "Password verified successfully. Updating stored hash...\n",
            "Hash updated successfully.\n"
          ]
        }
      ]
    },
    {
      "cell_type": "markdown",
      "source": [
        "***What the above Steps of Codes do ***\n",
        "\n",
        "1. Generates a secure salt and hashes user's password with it.\n",
        "\n",
        "2. Stores both the salt and the hash, safely encoded, in a JSON file.\n",
        "\n",
        "3. Allows user to change the password only if they know the original one.\n",
        "\n",
        "4. Uses SHA-256 (secure hashing) and random 32-byte salts (to prevent reuse or rainbow table attacks)."
      ],
      "metadata": {
        "id": "j3kWVSclzeeo"
      }
    },
    {
      "cell_type": "markdown",
      "source": [
        "*******************************************************************************************************"
      ],
      "metadata": {
        "id": "LxW47hkBz2qX"
      }
    },
    {
      "cell_type": "markdown",
      "source": [
        "\n",
        "**Why a Salted Hash Matters for Password Security**\n",
        "\n",
        "When it comes to storing sensitive information like passwords, hashing alone isn't sufficient. Hashing is a one-way function that transforms a password into a fixed-length string, often using algorithms like SHA-256. However, if two users select the same password, their hashed values will be identical, which can expose a pattern and open the door to attacks like hash comparison and reuse (OWASP, 2023).\n",
        "\n",
        "To address this, developers use what’s called a salt, which is a unique random string added to each password before hashing. Salting ensures that even if two users choose the same password, their resulting hashes will look entirely different. This practice helps prevent the use of rainbow tables, which are precomputed databases of common passwords and their corresponding hashes (Boneh and Shoup, 2020). By salting passwords, each hash becomes unique and much harder to crack, even if the underlying password is common.\n",
        "\n",
        "Here’s a simplified example. Without a salt, the password “password123” would always hash to the same value. But with a random salt such as “X7aP@dK9,” the hash becomes unique and unrelated to other users’ hashes, even if they use the same password.\n",
        "\n",
        "Salting is a simple yet highly effective strategy, and it's considered one of the foundational best practices in secure password storage today (OWASP, 2023).\n",
        "\n",
        "\n",
        "\n",
        "**Zero-Knowledge Proofs in Authentication (Using Python)**\n",
        "\n",
        "Zero-Knowledge Proofs (ZKPs) provide a powerful approach to authentication by enabling a user to prove they know a piece of information, like a password, without actually revealing what it is. This concept is especially valuable in scenarios where privacy and confidentiality are essential, such as in secure identity systems or privacy-focused financial platforms (Boneh and Shoup, 2020).\n",
        "\n",
        "In Python, one promising tool for working with ZKPs is pySNARK, which lets developers write and verify mathematical proofs without revealing the underlying data (pySNARK, 2021). With this library, you can implement a system where the user proves they know their password or authentication secret, and the server verifies the proof without ever seeing the password itself.\n",
        "\n",
        "This approach can significantly enhance traditional authentication methods. First, it improves privacy because the server does not directly retain or process sensitive data. Second, it strengthens security since the attacker cannot retrieve actual passwords or authentication material even if a system is compromised. Third, it simplifies compliance with privacy laws like the General Data Protection Regulation (GDPR), since less sensitive user data is stored and transmitted (OWASP, 2023).\n",
        "\n",
        "For example, using pySNARK, you can prove that a password meets certain strength requirements or matches a hash without showing the password at any point during the verification process.\n",
        "\n",
        "\n",
        "\n",
        "**References**\n",
        "\n",
        "Boneh, D. and Shoup, V. (2020). A Graduate Course in Applied Cryptography. [online] Available at: https://toc.cryptobook.us/\n",
        "\n",
        "OWASP Foundation. (2023). Password Storage Cheat Sheet. [online] Available at: https://cheatsheetseries.owasp.org/cheatsheets/Password_Storage_Cheat_Sheet.html\n",
        "\n",
        "pySNARK. (2021). GitHub Repository. [online] Available at: https://github.com/meilof/pysnark\n",
        "\n"
      ],
      "metadata": {
        "id": "1MKUdxva3qvd"
      }
    },
    {
      "cell_type": "markdown",
      "source": [
        "****************************************************************************************************************************************************************\n"
      ],
      "metadata": {
        "id": "dGSKJXKb6bqJ"
      }
    },
    {
      "cell_type": "markdown",
      "source": [
        "**Question 2:** Name one AES encryption mode that requires an Initial Vector (IV) and explain why it is considered more secure than other modes.  Name one AES encryption mode that does not require an IV."
      ],
      "metadata": {
        "id": "LNJ-Y9xf6gru"
      }
    },
    {
      "cell_type": "markdown",
      "source": [
        "****************************************************************************************************************************************************************"
      ],
      "metadata": {
        "id": "S731Pje16mi-"
      }
    },
    {
      "cell_type": "markdown",
      "source": [
        "**Answer to Question 2:**\n",
        "\n",
        "One commonly used AES encryption mode that requires an Initialization Vector (IV) is Cipher Block Chaining (CBC) mode. CBC enhances security by ensuring that identical plaintext blocks produce different ciphertext blocks, even when encrypted with the same key. This is achieved by applying an exclusive OR operation between each plaintext block and the previous ciphertext block before encryption. The first block uses an IV instead of a previous ciphertext block, which must be random and unpredictable for the encryption to remain secure (Ferguson et al. 2010). The use of an IV in CBC mode prevents attackers from identifying patterns in the data, which is a vulnerability in simpler modes such as ECB.\n",
        "\n",
        "In contrast, Electronic Codebook (ECB) mode does not require an IV. While ECB is conceptually straightforward because each plaintext block is encrypted independently, it suffers from a major weakness. Identical plaintext blocks result in identical ciphertext blocks. This exposes structural patterns in the encrypted data, which can lead to information leakage, especially in image or file encryption scenarios (Stallings 2017).\n",
        "\n",
        "For this reason, CBC mode is considered more secure than ECB because the inclusion of a properly managed IV introduces randomness. This helps defend against pattern analysis and replay attacks. However, it is important to note that IVs must never be reused with the same key in CBC mode, as doing so can undermine the encryption’s effectiveness.\n",
        "\n",
        "\n",
        "\n",
        "\n",
        "**References**\n",
        "\n",
        "Ferguson N., Schneier B., and Kohno T. (2010). Cryptography Engineering: Design Principles and Practical Applications. Wiley.\n",
        
"Stallings W. (2017). Cryptography and Network Security: Principles and Practice (Seventh Edition). Pearson.\n"
      ],
      "metadata": {
        "id": "6mkI1p4A6qnh"
      }
    }
  ]
}
