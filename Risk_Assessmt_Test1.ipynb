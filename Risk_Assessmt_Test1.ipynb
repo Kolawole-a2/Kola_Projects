{
  "nbformat": 4,
  "nbformat_minor": 0,
  "metadata": {
    "colab": {
      "provenance": [],
      "authorship_tag": "ABX9TyPoxqa7fbmIr5eToY22ozEl",
      "include_colab_link": true
    },
    "kernelspec": {
      "name": "python3",
      "display_name": "Python 3"
    },
    "language_info": {
      "name": "python"
    }
  },
  "cells": [
    {
      "cell_type": "markdown",
      "metadata": {
        "id": "view-in-github",
        "colab_type": "text"
      },
      "source": [
        "<a href=\"https://colab.research.google.com/github/Kolawole-a2/Kola_Projects/blob/main/Risk_Assessmt_Test1.ipynb\" target=\"_parent\"><img src=\"https://colab.research.google.com/assets/colab-badge.svg\" alt=\"Open In Colab\"/></a>"
      ]
    },
    {
      "cell_type": "code",
      "source": [
        "# 📦 Install needed packages (run once)\n",
        "!pip install -q plotly\n",
        "\n",
        "# 📚 Imports\n",
        "import pandas as pd\n",
        "import plotly.express as px\n",
        "from IPython.display import display, Markdown\n",
        "import numpy as np\n",
        "\n",
        "# 🧹 Sample Data (if you don't have your df_sorted yet)\n",
        "# You can replace this with your actual loaded DataFrame\n",
        "sample_data = {\n",
        "    'Risk': ['Phishing Attack', 'Ransomware Outbreak', 'Unpatched Systems', 'Insider Threat', 'Misconfigured Firewall'],\n",
        "    'Likelihood': [5, 4, 3, 2, 4],\n",
        "    'Impact': [4, 5, 5, 3, 4]\n",
        "}\n",
        "df_sorted = pd.DataFrame(sample_data)\n",
        "df_sorted['Risk Score'] = df_sorted['Likelihood'] * df_sorted['Impact']\n",
        "df_sorted = df_sorted.sort_values(by=\"Risk Score\", ascending=False)\n",
        "\n",
        "# 🛡️ Settings\n",
        "CRITICAL_THRESHOLD = 15  # You can adjust this threshold\n",
        "\n",
        "# 📋 Dashboard Functions\n",
        "\n",
        "def show_risk_table(df_sorted):\n",
        "    \"\"\"Display full Risk Register Table with highlights.\"\"\"\n",
        "    display(Markdown(\"### 🧾 Full Risk Register (Sorted by Severity)\"))\n",
        "    styled = df_sorted.style.applymap(\n",
        "        lambda val: 'background-color: red; color: white' if isinstance(val, (int, float)) and val >= CRITICAL_THRESHOLD else '',\n",
        "        subset=['Risk Score']\n",
        "    )\n",
        "    display(styled)\n",
        "\n",
        "def show_alerts(df_sorted):\n",
        "    \"\"\"Highlight only Critical Risk Alerts.\"\"\"\n",
        "    high_risks = df_sorted[df_sorted[\"Risk Score\"] >= CRITICAL_THRESHOLD]\n",
        "    if not high_risks.empty:\n",
        "        display(Markdown(\"### 🚨 Critical Risk Alerts\"))\n",
        "        styled = high_risks.style.set_properties(**{'background-color': 'red', 'color': 'white'})\n",
        "        display(styled)\n",
        "    else:\n",
        "        display(Markdown(\"✅ No Critical Risks Detected!\"))\n",
        "\n",
        "def show_risk_chart(df_sorted):\n",
        "    \"\"\"Interactive Risk Severity Bar Chart.\"\"\"\n",
        "    fig = px.bar(\n",
        "        df_sorted,\n",
        "        x=\"Risk\",\n",
        "        y=\"Risk Score\",\n",
        "        color=\"Risk Score\",\n",
        "        color_continuous_scale=\"Reds\",\n",
        "        title=\"📊 Interactive Risk Severity Dashboard\",\n",
        "        height=600,\n",
        "        width=1200\n",
        "    )\n",
        "    fig.update_layout(\n",
        "        xaxis_tickangle=-45,\n",
        "        margin=dict(l=40, r=40, t=80, b=180),\n",
        "        xaxis_title=\"Risk Description\",\n",
        "        yaxis_title=\"Risk Score\",\n",
        "    )\n",
        "    fig.show()\n",
        "    # Save for download\n",
        "    fig.write_html(\"risk_dashboard.html\")\n",
        "\n",
        "def download_dashboard():\n",
        "    \"\"\"Allow download of dashboard HTML file.\"\"\"\n",
        "    from google.colab import files\n",
        "    files.download(\"risk_dashboard.html\")\n",
        "\n",
        "# 🚀 Run Full Dashboard Now\n",
        "\n",
        "show_risk_table(df_sorted)\n",
        "show_alerts(df_sorted)\n",
        "show_risk_chart(df_sorted)\n",
        "\n",
        "print(\"\\n📥 Saving dashboard for download...\")\n",
        "download_dashboard()\n"
      ],
      "metadata": {
        "colab": {
          "base_uri": "https://localhost:8080/",
          "height": 1000
        },
        "id": "yfF0_78iNXym",
        "outputId": "e3233d1a-1bbc-4865-e3f6-0298c0384e55"
      },
      "execution_count": 53,
      "outputs": [
        {
          "output_type": "display_data",
          "data": {
            "text/plain": [
              "<IPython.core.display.Markdown object>"
            ],
            "text/markdown": "### 🧾 Full Risk Register (Sorted by Severity)"
          },
          "metadata": {}
        },
        {
          "output_type": "stream",
          "name": "stderr",
          "text": [
            "<ipython-input-53-bff51f3293d6>:29: FutureWarning:\n",
            "\n",
            "Styler.applymap has been deprecated. Use Styler.map instead.\n",
            "\n"
          ]
        },
        {
          "output_type": "display_data",
          "data": {
            "text/plain": [
              "<pandas.io.formats.style.Styler at 0x7bfc6c630810>"
            ],
            "text/html": [
              "<style type=\"text/css\">\n",
              "#T_513cf_row0_col3, #T_513cf_row1_col3, #T_513cf_row2_col3, #T_513cf_row3_col3 {\n",
              "  background-color: red;\n",
              "  color: white;\n",
              "}\n",
              "</style>\n",
              "<table id=\"T_513cf\" class=\"dataframe\">\n",
              "  <thead>\n",
              "    <tr>\n",
              "      <th class=\"blank level0\" >&nbsp;</th>\n",
              "      <th id=\"T_513cf_level0_col0\" class=\"col_heading level0 col0\" >Risk</th>\n",
              "      <th id=\"T_513cf_level0_col1\" class=\"col_heading level0 col1\" >Likelihood</th>\n",
              "      <th id=\"T_513cf_level0_col2\" class=\"col_heading level0 col2\" >Impact</th>\n",
              "      <th id=\"T_513cf_level0_col3\" class=\"col_heading level0 col3\" >Risk Score</th>\n",
              "    </tr>\n",
              "  </thead>\n",
              "  <tbody>\n",
              "    <tr>\n",
              "      <th id=\"T_513cf_level0_row0\" class=\"row_heading level0 row0\" >0</th>\n",
              "      <td id=\"T_513cf_row0_col0\" class=\"data row0 col0\" >Phishing Attack</td>\n",
              "      <td id=\"T_513cf_row0_col1\" class=\"data row0 col1\" >5</td>\n",
              "      <td id=\"T_513cf_row0_col2\" class=\"data row0 col2\" >4</td>\n",
              "      <td id=\"T_513cf_row0_col3\" class=\"data row0 col3\" >20</td>\n",
              "    </tr>\n",
              "    <tr>\n",
              "      <th id=\"T_513cf_level0_row1\" class=\"row_heading level0 row1\" >1</th>\n",
              "      <td id=\"T_513cf_row1_col0\" class=\"data row1 col0\" >Ransomware Outbreak</td>\n",
              "      <td id=\"T_513cf_row1_col1\" class=\"data row1 col1\" >4</td>\n",
              "      <td id=\"T_513cf_row1_col2\" class=\"data row1 col2\" >5</td>\n",
              "      <td id=\"T_513cf_row1_col3\" class=\"data row1 col3\" >20</td>\n",
              "    </tr>\n",
              "    <tr>\n",
              "      <th id=\"T_513cf_level0_row2\" class=\"row_heading level0 row2\" >4</th>\n",
              "      <td id=\"T_513cf_row2_col0\" class=\"data row2 col0\" >Misconfigured Firewall</td>\n",
              "      <td id=\"T_513cf_row2_col1\" class=\"data row2 col1\" >4</td>\n",
              "      <td id=\"T_513cf_row2_col2\" class=\"data row2 col2\" >4</td>\n",
              "      <td id=\"T_513cf_row2_col3\" class=\"data row2 col3\" >16</td>\n",
              "    </tr>\n",
              "    <tr>\n",
              "      <th id=\"T_513cf_level0_row3\" class=\"row_heading level0 row3\" >2</th>\n",
              "      <td id=\"T_513cf_row3_col0\" class=\"data row3 col0\" >Unpatched Systems</td>\n",
              "      <td id=\"T_513cf_row3_col1\" class=\"data row3 col1\" >3</td>\n",
              "      <td id=\"T_513cf_row3_col2\" class=\"data row3 col2\" >5</td>\n",
              "      <td id=\"T_513cf_row3_col3\" class=\"data row3 col3\" >15</td>\n",
              "    </tr>\n",
              "    <tr>\n",
              "      <th id=\"T_513cf_level0_row4\" class=\"row_heading level0 row4\" >3</th>\n",
              "      <td id=\"T_513cf_row4_col0\" class=\"data row4 col0\" >Insider Threat</td>\n",
              "      <td id=\"T_513cf_row4_col1\" class=\"data row4 col1\" >2</td>\n",
              "      <td id=\"T_513cf_row4_col2\" class=\"data row4 col2\" >3</td>\n",
              "      <td id=\"T_513cf_row4_col3\" class=\"data row4 col3\" >6</td>\n",
              "    </tr>\n",
              "  </tbody>\n",
              "</table>\n"
            ]
          },
          "metadata": {}
        },
        {
          "output_type": "display_data",
          "data": {
            "text/plain": [
              "<IPython.core.display.Markdown object>"
            ],
            "text/markdown": "### 🚨 Critical Risk Alerts"
          },
          "metadata": {}
        },
        {
          "output_type": "display_data",
          "data": {
            "text/plain": [
              "<pandas.io.formats.style.Styler at 0x7bfc6cd2f8d0>"
            ],
            "text/html": [
              "<style type=\"text/css\">\n",
              "#T_0bf94_row0_col0, #T_0bf94_row0_col1, #T_0bf94_row0_col2, #T_0bf94_row0_col3, #T_0bf94_row1_col0, #T_0bf94_row1_col1, #T_0bf94_row1_col2, #T_0bf94_row1_col3, #T_0bf94_row2_col0, #T_0bf94_row2_col1, #T_0bf94_row2_col2, #T_0bf94_row2_col3, #T_0bf94_row3_col0, #T_0bf94_row3_col1, #T_0bf94_row3_col2, #T_0bf94_row3_col3 {\n",
              "  background-color: red;\n",
              "  color: white;\n",
              "}\n",
              "</style>\n",
              "<table id=\"T_0bf94\" class=\"dataframe\">\n",
              "  <thead>\n",
              "    <tr>\n",
              "      <th class=\"blank level0\" >&nbsp;</th>\n",
              "      <th id=\"T_0bf94_level0_col0\" class=\"col_heading level0 col0\" >Risk</th>\n",
              "      <th id=\"T_0bf94_level0_col1\" class=\"col_heading level0 col1\" >Likelihood</th>\n",
              "      <th id=\"T_0bf94_level0_col2\" class=\"col_heading level0 col2\" >Impact</th>\n",
              "      <th id=\"T_0bf94_level0_col3\" class=\"col_heading level0 col3\" >Risk Score</th>\n",
              "    </tr>\n",
              "  </thead>\n",
              "  <tbody>\n",
              "    <tr>\n",
              "      <th id=\"T_0bf94_level0_row0\" class=\"row_heading level0 row0\" >0</th>\n",
              "      <td id=\"T_0bf94_row0_col0\" class=\"data row0 col0\" >Phishing Attack</td>\n",
              "      <td id=\"T_0bf94_row0_col1\" class=\"data row0 col1\" >5</td>\n",
              "      <td id=\"T_0bf94_row0_col2\" class=\"data row0 col2\" >4</td>\n",
              "      <td id=\"T_0bf94_row0_col3\" class=\"data row0 col3\" >20</td>\n",
              "    </tr>\n",
              "    <tr>\n",
              "      <th id=\"T_0bf94_level0_row1\" class=\"row_heading level0 row1\" >1</th>\n",
              "      <td id=\"T_0bf94_row1_col0\" class=\"data row1 col0\" >Ransomware Outbreak</td>\n",
              "      <td id=\"T_0bf94_row1_col1\" class=\"data row1 col1\" >4</td>\n",
              "      <td id=\"T_0bf94_row1_col2\" class=\"data row1 col2\" >5</td>\n",
              "      <td id=\"T_0bf94_row1_col3\" class=\"data row1 col3\" >20</td>\n",
              "    </tr>\n",
              "    <tr>\n",
              "      <th id=\"T_0bf94_level0_row2\" class=\"row_heading level0 row2\" >4</th>\n",
              "      <td id=\"T_0bf94_row2_col0\" class=\"data row2 col0\" >Misconfigured Firewall</td>\n",
              "      <td id=\"T_0bf94_row2_col1\" class=\"data row2 col1\" >4</td>\n",
              "      <td id=\"T_0bf94_row2_col2\" class=\"data row2 col2\" >4</td>\n",
              "      <td id=\"T_0bf94_row2_col3\" class=\"data row2 col3\" >16</td>\n",
              "    </tr>\n",
              "    <tr>\n",
              "      <th id=\"T_0bf94_level0_row3\" class=\"row_heading level0 row3\" >2</th>\n",
              "      <td id=\"T_0bf94_row3_col0\" class=\"data row3 col0\" >Unpatched Systems</td>\n",
              "      <td id=\"T_0bf94_row3_col1\" class=\"data row3 col1\" >3</td>\n",
              "      <td id=\"T_0bf94_row3_col2\" class=\"data row3 col2\" >5</td>\n",
              "      <td id=\"T_0bf94_row3_col3\" class=\"data row3 col3\" >15</td>\n",
              "    </tr>\n",
              "  </tbody>\n",
              "</table>\n"
            ]
          },
          "metadata": {}
        },
        {
          "output_type": "display_data",
          "data": {
            "text/html": [
              "<html>\n",
              "<head><meta charset=\"utf-8\" /></head>\n",
              "<body>\n",
              "    <div>            <script src=\"https://cdnjs.cloudflare.com/ajax/libs/mathjax/2.7.5/MathJax.js?config=TeX-AMS-MML_SVG\"></script><script type=\"text/javascript\">if (window.MathJax && window.MathJax.Hub && window.MathJax.Hub.Config) {window.MathJax.Hub.Config({SVG: {font: \"STIX-Web\"}});}</script>                <script type=\"text/javascript\">window.PlotlyConfig = {MathJaxConfig: 'local'};</script>\n",
              "        <script charset=\"utf-8\" src=\"https://cdn.plot.ly/plotly-2.35.2.min.js\"></script>                <div id=\"2d09fe29-f833-4273-b5f6-925b1dd142b4\" class=\"plotly-graph-div\" style=\"height:600px; width:1200px;\"></div>            <script type=\"text/javascript\">                                    window.PLOTLYENV=window.PLOTLYENV || {};                                    if (document.getElementById(\"2d09fe29-f833-4273-b5f6-925b1dd142b4\")) {                    Plotly.newPlot(                        \"2d09fe29-f833-4273-b5f6-925b1dd142b4\",                        [{\"alignmentgroup\":\"True\",\"hovertemplate\":\"Risk=%{x}\\u003cbr\\u003eRisk Score=%{marker.color}\\u003cextra\\u003e\\u003c\\u002fextra\\u003e\",\"legendgroup\":\"\",\"marker\":{\"color\":[20,20,16,15,6],\"coloraxis\":\"coloraxis\",\"pattern\":{\"shape\":\"\"}},\"name\":\"\",\"offsetgroup\":\"\",\"orientation\":\"v\",\"showlegend\":false,\"textposition\":\"auto\",\"x\":[\"Phishing Attack\",\"Ransomware Outbreak\",\"Misconfigured Firewall\",\"Unpatched Systems\",\"Insider Threat\"],\"xaxis\":\"x\",\"y\":[20,20,16,15,6],\"yaxis\":\"y\",\"type\":\"bar\"}],                        {\"template\":{\"data\":{\"candlestick\":[{\"decreasing\":{\"line\":{\"color\":\"#000033\"}},\"increasing\":{\"line\":{\"color\":\"#000032\"}},\"type\":\"candlestick\"}],\"contourcarpet\":[{\"colorscale\":[[0.0,\"#000011\"],[0.1111111111111111,\"#000012\"],[0.2222222222222222,\"#000013\"],[0.3333333333333333,\"#000014\"],[0.4444444444444444,\"#000015\"],[0.5555555555555556,\"#000016\"],[0.6666666666666666,\"#000017\"],[0.7777777777777778,\"#000018\"],[0.8888888888888888,\"#000019\"],[1.0,\"#000020\"]],\"type\":\"contourcarpet\"}],\"contour\":[{\"colorscale\":[[0.0,\"#000011\"],[0.1111111111111111,\"#000012\"],[0.2222222222222222,\"#000013\"],[0.3333333333333333,\"#000014\"],[0.4444444444444444,\"#000015\"],[0.5555555555555556,\"#000016\"],[0.6666666666666666,\"#000017\"],[0.7777777777777778,\"#000018\"],[0.8888888888888888,\"#000019\"],[1.0,\"#000020\"]],\"type\":\"contour\"}],\"heatmap\":[{\"colorscale\":[[0.0,\"#000011\"],[0.1111111111111111,\"#000012\"],[0.2222222222222222,\"#000013\"],[0.3333333333333333,\"#000014\"],[0.4444444444444444,\"#000015\"],[0.5555555555555556,\"#000016\"],[0.6666666666666666,\"#000017\"],[0.7777777777777778,\"#000018\"],[0.8888888888888888,\"#000019\"],[1.0,\"#000020\"]],\"type\":\"heatmap\"}],\"histogram2d\":[{\"colorscale\":[[0.0,\"#000011\"],[0.1111111111111111,\"#000012\"],[0.2222222222222222,\"#000013\"],[0.3333333333333333,\"#000014\"],[0.4444444444444444,\"#000015\"],[0.5555555555555556,\"#000016\"],[0.6666666666666666,\"#000017\"],[0.7777777777777778,\"#000018\"],[0.8888888888888888,\"#000019\"],[1.0,\"#000020\"]],\"type\":\"histogram2d\"}],\"icicle\":[{\"textfont\":{\"color\":\"white\"},\"type\":\"icicle\"}],\"sankey\":[{\"textfont\":{\"color\":\"#000036\"},\"type\":\"sankey\"}],\"scatter\":[{\"marker\":{\"line\":{\"width\":0}},\"type\":\"scatter\"}],\"table\":[{\"cells\":{\"fill\":{\"color\":\"#000038\"},\"font\":{\"color\":\"#000037\"},\"line\":{\"color\":\"#000039\"}},\"header\":{\"fill\":{\"color\":\"#000040\"},\"font\":{\"color\":\"#000036\"},\"line\":{\"color\":\"#000039\"}},\"type\":\"table\"}],\"waterfall\":[{\"connector\":{\"line\":{\"color\":\"#000036\",\"width\":2}},\"decreasing\":{\"marker\":{\"color\":\"#000033\"}},\"increasing\":{\"marker\":{\"color\":\"#000032\"}},\"totals\":{\"marker\":{\"color\":\"#000034\"}},\"type\":\"waterfall\"}]},\"layout\":{\"coloraxis\":{\"colorscale\":[[0.0,\"#000011\"],[0.1111111111111111,\"#000012\"],[0.2222222222222222,\"#000013\"],[0.3333333333333333,\"#000014\"],[0.4444444444444444,\"#000015\"],[0.5555555555555556,\"#000016\"],[0.6666666666666666,\"#000017\"],[0.7777777777777778,\"#000018\"],[0.8888888888888888,\"#000019\"],[1.0,\"#000020\"]]},\"colorscale\":{\"diverging\":[[0.0,\"#000021\"],[0.1,\"#000022\"],[0.2,\"#000023\"],[0.3,\"#000024\"],[0.4,\"#000025\"],[0.5,\"#000026\"],[0.6,\"#000027\"],[0.7,\"#000028\"],[0.8,\"#000029\"],[0.9,\"#000030\"],[1.0,\"#000031\"]],\"sequential\":[[0.0,\"#000011\"],[0.1111111111111111,\"#000012\"],[0.2222222222222222,\"#000013\"],[0.3333333333333333,\"#000014\"],[0.4444444444444444,\"#000015\"],[0.5555555555555556,\"#000016\"],[0.6666666666666666,\"#000017\"],[0.7777777777777778,\"#000018\"],[0.8888888888888888,\"#000019\"],[1.0,\"#000020\"]],\"sequentialminus\":[[0.0,\"#000011\"],[0.1111111111111111,\"#000012\"],[0.2222222222222222,\"#000013\"],[0.3333333333333333,\"#000014\"],[0.4444444444444444,\"#000015\"],[0.5555555555555556,\"#000016\"],[0.6666666666666666,\"#000017\"],[0.7777777777777778,\"#000018\"],[0.8888888888888888,\"#000019\"],[1.0,\"#000020\"]]},\"colorway\":[\"#000001\",\"#000002\",\"#000003\",\"#000004\",\"#000005\",\"#000006\",\"#000007\",\"#000008\",\"#000009\",\"#000010\"]}},\"xaxis\":{\"anchor\":\"y\",\"domain\":[0.0,1.0],\"title\":{\"text\":\"Risk Description\"},\"tickangle\":-45},\"yaxis\":{\"anchor\":\"x\",\"domain\":[0.0,1.0],\"title\":{\"text\":\"Risk Score\"}},\"coloraxis\":{\"colorbar\":{\"title\":{\"text\":\"Risk Score\"}},\"colorscale\":[[0.0,\"rgb(255,245,240)\"],[0.125,\"rgb(254,224,210)\"],[0.25,\"rgb(252,187,161)\"],[0.375,\"rgb(252,146,114)\"],[0.5,\"rgb(251,106,74)\"],[0.625,\"rgb(239,59,44)\"],[0.75,\"rgb(203,24,29)\"],[0.875,\"rgb(165,15,21)\"],[1.0,\"rgb(103,0,13)\"]]},\"legend\":{\"tracegroupgap\":0},\"title\":{\"text\":\"📊 Interactive Risk Severity Dashboard\"},\"barmode\":\"relative\",\"height\":600,\"width\":1200,\"margin\":{\"l\":40,\"r\":40,\"t\":80,\"b\":180}},                        {\"responsive\": true}                    ).then(function(){\n",
              "                            \n",
              "var gd = document.getElementById('2d09fe29-f833-4273-b5f6-925b1dd142b4');\n",
              "var x = new MutationObserver(function (mutations, observer) {{\n",
              "        var display = window.getComputedStyle(gd).display;\n",
              "        if (!display || display === 'none') {{\n",
              "            console.log([gd, 'removed!']);\n",
              "            Plotly.purge(gd);\n",
              "            observer.disconnect();\n",
              "        }}\n",
              "}});\n",
              "\n",
              "// Listen for the removal of the full notebook cells\n",
              "var notebookContainer = gd.closest('#notebook-container');\n",
              "if (notebookContainer) {{\n",
              "    x.observe(notebookContainer, {childList: true});\n",
              "}}\n",
              "\n",
              "// Listen for the clearing of the current output cell\n",
              "var outputEl = gd.closest('.output');\n",
              "if (outputEl) {{\n",
              "    x.observe(outputEl, {childList: true});\n",
              "}}\n",
              "\n",
              "                        })                };                            </script>        </div>\n",
              "</body>\n",
              "</html>"
            ]
          },
          "metadata": {}
        },
        {
          "output_type": "stream",
          "name": "stdout",
          "text": [
            "\n",
            "📥 Saving dashboard for download...\n"
          ]
        },
        {
          "output_type": "display_data",
          "data": {
            "text/plain": [
              "<IPython.core.display.Javascript object>"
            ],
            "application/javascript": [
              "\n",
              "    async function download(id, filename, size) {\n",
              "      if (!google.colab.kernel.accessAllowed) {\n",
              "        return;\n",
              "      }\n",
              "      const div = document.createElement('div');\n",
              "      const label = document.createElement('label');\n",
              "      label.textContent = `Downloading \"${filename}\": `;\n",
              "      div.appendChild(label);\n",
              "      const progress = document.createElement('progress');\n",
              "      progress.max = size;\n",
              "      div.appendChild(progress);\n",
              "      document.body.appendChild(div);\n",
              "\n",
              "      const buffers = [];\n",
              "      let downloaded = 0;\n",
              "\n",
              "      const channel = await google.colab.kernel.comms.open(id);\n",
              "      // Send a message to notify the kernel that we're ready.\n",
              "      channel.send({})\n",
              "\n",
              "      for await (const message of channel.messages) {\n",
              "        // Send a message to notify the kernel that we're ready.\n",
              "        channel.send({})\n",
              "        if (message.buffers) {\n",
              "          for (const buffer of message.buffers) {\n",
              "            buffers.push(buffer);\n",
              "            downloaded += buffer.byteLength;\n",
              "            progress.value = downloaded;\n",
              "          }\n",
              "        }\n",
              "      }\n",
              "      const blob = new Blob(buffers, {type: 'application/binary'});\n",
              "      const a = document.createElement('a');\n",
              "      a.href = window.URL.createObjectURL(blob);\n",
              "      a.download = filename;\n",
              "      div.appendChild(a);\n",
              "      a.click();\n",
              "      div.remove();\n",
              "    }\n",
              "  "
            ]
          },
          "metadata": {}
        },
        {
          "output_type": "display_data",
          "data": {
            "text/plain": [
              "<IPython.core.display.Javascript object>"
            ],
            "application/javascript": [
              "download(\"download_89d9c09e-df7a-4a02-8e5d-8a454d8d895f\", \"risk_dashboard.html\", 4564000)"
            ]
          },
          "metadata": {}
        }
      ]
    }
  ]
}