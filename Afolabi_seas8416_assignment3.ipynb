{
  "nbformat": 4,
  "nbformat_minor": 0,
  "metadata": {
    "colab": {
      "provenance": [],
      "toc_visible": true,
      "authorship_tag": "ABX9TyNhSLxgQMWm3adIvYR+Vyx1",
      "include_colab_link": true
    },
    "kernelspec": {
      "name": "python3",
      "display_name": "Python 3"
    },
    "language_info": {
      "name": "python"
    }
  },
  "cells": [
    {
      "cell_type": "markdown",
      "metadata": {
        "id": "view-in-github",
        "colab_type": "text"
      },
      "source": [
        "<a href=\"https://colab.research.google.com/github/Kolawole-a2/Kola_Projects/blob/main/Afolabi_seas8416_assignment3.ipynb\" target=\"_parent\"><img src=\"https://colab.research.google.com/assets/colab-badge.svg\" alt=\"Open In Colab\"/></a>"
      ]
    },
    {
      "cell_type": "markdown",
      "source": [
        "**1. Uploading/Accessing the File in Colab (Manually Upload in Colab)**"
      ],
      "metadata": {
        "id": "gUKJ_GbC5p0N"
      }
    },
    {
      "cell_type": "code",
      "source": [
        "from google.colab import files\n",
        "uploaded = files.upload()\n"
      ],
      "metadata": {
        "colab": {
          "base_uri": "https://localhost:8080/",
          "height": 73
        },
        "id": "ZTtdLHxS4H9Q",
        "outputId": "dc52621d-bdbb-46d3-c0dd-fc2b45d6a8be"
      },
      "execution_count": null,
      "outputs": [
        {
          "output_type": "display_data",
          "data": {
            "text/plain": [
              "<IPython.core.display.HTML object>"
            ],
            "text/html": [
              "\n",
              "     <input type=\"file\" id=\"files-0ab70c6e-7118-4921-81dd-7361c0997bb1\" name=\"files[]\" multiple disabled\n",
              "        style=\"border:none\" />\n",
              "     <output id=\"result-0ab70c6e-7118-4921-81dd-7361c0997bb1\">\n",
              "      Upload widget is only available when the cell has been executed in the\n",
              "      current browser session. Please rerun this cell to enable.\n",
              "      </output>\n",
              "      <script>// Copyright 2017 Google LLC\n",
              "//\n",
              "// Licensed under the Apache License, Version 2.0 (the \"License\");\n",
              "// you may not use this file except in compliance with the License.\n",
              "// You may obtain a copy of the License at\n",
              "//\n",
              "//      http://www.apache.org/licenses/LICENSE-2.0\n",
              "//\n",
              "// Unless required by applicable law or agreed to in writing, software\n",
              "// distributed under the License is distributed on an \"AS IS\" BASIS,\n",
              "// WITHOUT WARRANTIES OR CONDITIONS OF ANY KIND, either express or implied.\n",
              "// See the License for the specific language governing permissions and\n",
              "// limitations under the License.\n",
              "\n",
              "/**\n",
              " * @fileoverview Helpers for google.colab Python module.\n",
              " */\n",
              "(function(scope) {\n",
              "function span(text, styleAttributes = {}) {\n",
              "  const element = document.createElement('span');\n",
              "  element.textContent = text;\n",
              "  for (const key of Object.keys(styleAttributes)) {\n",
              "    element.style[key] = styleAttributes[key];\n",
              "  }\n",
              "  return element;\n",
              "}\n",
              "\n",
              "// Max number of bytes which will be uploaded at a time.\n",
              "const MAX_PAYLOAD_SIZE = 100 * 1024;\n",
              "\n",
              "function _uploadFiles(inputId, outputId) {\n",
              "  const steps = uploadFilesStep(inputId, outputId);\n",
              "  const outputElement = document.getElementById(outputId);\n",
              "  // Cache steps on the outputElement to make it available for the next call\n",
              "  // to uploadFilesContinue from Python.\n",
              "  outputElement.steps = steps;\n",
              "\n",
              "  return _uploadFilesContinue(outputId);\n",
              "}\n",
              "\n",
              "// This is roughly an async generator (not supported in the browser yet),\n",
              "// where there are multiple asynchronous steps and the Python side is going\n",
              "// to poll for completion of each step.\n",
              "// This uses a Promise to block the python side on completion of each step,\n",
              "// then passes the result of the previous step as the input to the next step.\n",
              "function _uploadFilesContinue(outputId) {\n",
              "  const outputElement = document.getElementById(outputId);\n",
              "  const steps = outputElement.steps;\n",
              "\n",
              "  const next = steps.next(outputElement.lastPromiseValue);\n",
              "  return Promise.resolve(next.value.promise).then((value) => {\n",
              "    // Cache the last promise value to make it available to the next\n",
              "    // step of the generator.\n",
              "    outputElement.lastPromiseValue = value;\n",
              "    return next.value.response;\n",
              "  });\n",
              "}\n",
              "\n",
              "/**\n",
              " * Generator function which is called between each async step of the upload\n",
              " * process.\n",
              " * @param {string} inputId Element ID of the input file picker element.\n",
              " * @param {string} outputId Element ID of the output display.\n",
              " * @return {!Iterable<!Object>} Iterable of next steps.\n",
              " */\n",
              "function* uploadFilesStep(inputId, outputId) {\n",
              "  const inputElement = document.getElementById(inputId);\n",
              "  inputElement.disabled = false;\n",
              "\n",
              "  const outputElement = document.getElementById(outputId);\n",
              "  outputElement.innerHTML = '';\n",
              "\n",
              "  const pickedPromise = new Promise((resolve) => {\n",
              "    inputElement.addEventListener('change', (e) => {\n",
              "      resolve(e.target.files);\n",
              "    });\n",
              "  });\n",
              "\n",
              "  const cancel = document.createElement('button');\n",
              "  inputElement.parentElement.appendChild(cancel);\n",
              "  cancel.textContent = 'Cancel upload';\n",
              "  const cancelPromise = new Promise((resolve) => {\n",
              "    cancel.onclick = () => {\n",
              "      resolve(null);\n",
              "    };\n",
              "  });\n",
              "\n",
              "  // Wait for the user to pick the files.\n",
              "  const files = yield {\n",
              "    promise: Promise.race([pickedPromise, cancelPromise]),\n",
              "    response: {\n",
              "      action: 'starting',\n",
              "    }\n",
              "  };\n",
              "\n",
              "  cancel.remove();\n",
              "\n",
              "  // Disable the input element since further picks are not allowed.\n",
              "  inputElement.disabled = true;\n",
              "\n",
              "  if (!files) {\n",
              "    return {\n",
              "      response: {\n",
              "        action: 'complete',\n",
              "      }\n",
              "    };\n",
              "  }\n",
              "\n",
              "  for (const file of files) {\n",
              "    const li = document.createElement('li');\n",
              "    li.append(span(file.name, {fontWeight: 'bold'}));\n",
              "    li.append(span(\n",
              "        `(${file.type || 'n/a'}) - ${file.size} bytes, ` +\n",
              "        `last modified: ${\n",
              "            file.lastModifiedDate ? file.lastModifiedDate.toLocaleDateString() :\n",
              "                                    'n/a'} - `));\n",
              "    const percent = span('0% done');\n",
              "    li.appendChild(percent);\n",
              "\n",
              "    outputElement.appendChild(li);\n",
              "\n",
              "    const fileDataPromise = new Promise((resolve) => {\n",
              "      const reader = new FileReader();\n",
              "      reader.onload = (e) => {\n",
              "        resolve(e.target.result);\n",
              "      };\n",
              "      reader.readAsArrayBuffer(file);\n",
              "    });\n",
              "    // Wait for the data to be ready.\n",
              "    let fileData = yield {\n",
              "      promise: fileDataPromise,\n",
              "      response: {\n",
              "        action: 'continue',\n",
              "      }\n",
              "    };\n",
              "\n",
              "    // Use a chunked sending to avoid message size limits. See b/62115660.\n",
              "    let position = 0;\n",
              "    do {\n",
              "      const length = Math.min(fileData.byteLength - position, MAX_PAYLOAD_SIZE);\n",
              "      const chunk = new Uint8Array(fileData, position, length);\n",
              "      position += length;\n",
              "\n",
              "      const base64 = btoa(String.fromCharCode.apply(null, chunk));\n",
              "      yield {\n",
              "        response: {\n",
              "          action: 'append',\n",
              "          file: file.name,\n",
              "          data: base64,\n",
              "        },\n",
              "      };\n",
              "\n",
              "      let percentDone = fileData.byteLength === 0 ?\n",
              "          100 :\n",
              "          Math.round((position / fileData.byteLength) * 100);\n",
              "      percent.textContent = `${percentDone}% done`;\n",
              "\n",
              "    } while (position < fileData.byteLength);\n",
              "  }\n",
              "\n",
              "  // All done.\n",
              "  yield {\n",
              "    response: {\n",
              "      action: 'complete',\n",
              "    }\n",
              "  };\n",
              "}\n",
              "\n",
              "scope.google = scope.google || {};\n",
              "scope.google.colab = scope.google.colab || {};\n",
              "scope.google.colab._files = {\n",
              "  _uploadFiles,\n",
              "  _uploadFilesContinue,\n",
              "};\n",
              "})(self);\n",
              "</script> "
            ]
          },
          "metadata": {}
        },
        {
          "output_type": "stream",
          "name": "stdout",
          "text": [
            "Saving Boston.csv to Boston.csv\n"
          ]
        }
      ]
    },
    {
      "cell_type": "markdown",
      "source": [
        "**Load CSV as a DataFrame**"
      ],
      "metadata": {
        "id": "dVQ9s1I46AUP"
      }
    },
    {
      "cell_type": "code",
      "source": [
        "import pandas as pd\n",
        "\n",
        "# Adjust path if necessary\n",
        "df_bos_1 = pd.read_csv(\"Boston.csv\")\n"
      ],
      "metadata": {
        "id": "qhsOC50u5ESs"
      },
      "execution_count": null,
      "outputs": []
    },
    {
      "cell_type": "markdown",
      "source": [
        "**1A. Display First 20 Records**"
      ],
      "metadata": {
        "id": "Hmj464KR6UZf"
      }
    },
    {
      "cell_type": "code",
      "source": [
        "print(df_bos_1.head(20))\n"
      ],
      "metadata": {
        "colab": {
          "base_uri": "https://localhost:8080/"
        },
        "id": "e0Toxei35Ncg",
        "outputId": "12420dec-731d-4242-c8cd-43380b23f44f"
      },
      "execution_count": null,
      "outputs": [
        {
          "output_type": "stream",
          "name": "stdout",
          "text": [
            "    Unnamed: 0     crim    zn  indus  chas    nox     rm    age     dis  rad  \\\n",
            "0            1  0.00632  18.0   2.31     0  0.538  6.575   65.2  4.0900    1   \n",
            "1            2  0.02731   0.0   7.07     0  0.469  6.421   78.9  4.9671    2   \n",
            "2            3  0.02729   0.0   7.07     0  0.469  7.185   61.1  4.9671    2   \n",
            "3            4  0.03237   0.0   2.18     0  0.458  6.998   45.8  6.0622    3   \n",
            "4            5  0.06905   0.0   2.18     0  0.458  7.147   54.2  6.0622    3   \n",
            "5            6  0.02985   0.0   2.18     0  0.458  6.430   58.7  6.0622    3   \n",
            "6            7  0.08829  12.5   7.87     0  0.524  6.012   66.6  5.5605    5   \n",
            "7            8  0.14455  12.5   7.87     0  0.524  6.172   96.1  5.9505    5   \n",
            "8            9  0.21124  12.5   7.87     0  0.524  5.631  100.0  6.0821    5   \n",
            "9           10  0.17004  12.5   7.87     0  0.524  6.004   85.9  6.5921    5   \n",
            "10          11  0.22489  12.5   7.87     0  0.524  6.377   94.3  6.3467    5   \n",
            "11          12  0.11747  12.5   7.87     0  0.524  6.009   82.9  6.2267    5   \n",
            "12          13  0.09378  12.5   7.87     0  0.524  5.889   39.0  5.4509    5   \n",
            "13          14  0.62976   0.0   8.14     0  0.538  5.949   61.8  4.7075    4   \n",
            "14          15  0.63796   0.0   8.14     0  0.538  6.096   84.5  4.4619    4   \n",
            "15          16  0.62739   0.0   8.14     0  0.538  5.834   56.5  4.4986    4   \n",
            "16          17  1.05393   0.0   8.14     0  0.538  5.935   29.3  4.4986    4   \n",
            "17          18  0.78420   0.0   8.14     0  0.538  5.990   81.7  4.2579    4   \n",
            "18          19  0.80271   0.0   8.14     0  0.538  5.456   36.6  3.7965    4   \n",
            "19          20  0.72580   0.0   8.14     0  0.538  5.727   69.5  3.7965    4   \n",
            "\n",
            "    tax  ptratio  lstat  medv  \n",
            "0   296     15.3   4.98  24.0  \n",
            "1   242     17.8   9.14  21.6  \n",
            "2   242     17.8   4.03  34.7  \n",
            "3   222     18.7   2.94  33.4  \n",
            "4   222     18.7   5.33  36.2  \n",
            "5   222     18.7   5.21  28.7  \n",
            "6   311     15.2  12.43  22.9  \n",
            "7   311     15.2  19.15  27.1  \n",
            "8   311     15.2  29.93  16.5  \n",
            "9   311     15.2  17.10  18.9  \n",
            "10  311     15.2  20.45  15.0  \n",
            "11  311     15.2  13.27  18.9  \n",
            "12  311     15.2  15.71  21.7  \n",
            "13  307     21.0   8.26  20.4  \n",
            "14  307     21.0  10.26  18.2  \n",
            "15  307     21.0   8.47  19.9  \n",
            "16  307     21.0   6.58  23.1  \n",
            "17  307     21.0  14.67  17.5  \n",
            "18  307     21.0  11.69  20.2  \n",
            "19  307     21.0  11.28  18.2  \n"
          ]
        }
      ]
    },
    {
      "cell_type": "markdown",
      "source": [
        "**1B. Display Column Names**"
      ],
      "metadata": {
        "id": "MI-2Ne0o6fTw"
      }
    },
    {
      "cell_type": "code",
      "source": [
        "print(df_bos_1.columns)\n"
      ],
      "metadata": {
        "colab": {
          "base_uri": "https://localhost:8080/"
        },
        "id": "KkIwnxpE6Zm5",
        "outputId": "baa2a5f5-852c-4a15-dc8c-91de8e3bdc43"
      },
      "execution_count": null,
      "outputs": [
        {
          "output_type": "stream",
          "name": "stdout",
          "text": [
            "Index(['Unnamed: 0', 'crim', 'zn', 'indus', 'chas', 'nox', 'rm', 'age', 'dis',\n",
            "       'rad', 'tax', 'ptratio', 'lstat', 'medv'],\n",
            "      dtype='object')\n"
          ]
        }
      ]
    },
    {
      "cell_type": "markdown",
      "source": [
        "**C. Display Row Index**"
      ],
      "metadata": {
        "id": "pVsxe2hi67ol"
      }
    },
    {
      "cell_type": "code",
      "source": [
        "print(df_bos_1.index)\n"
      ],
      "metadata": {
        "colab": {
          "base_uri": "https://localhost:8080/"
        },
        "id": "TMzqMYtt6vKI",
        "outputId": "9f8fbb72-0ccc-4266-ed24-c4c30b3258c6"
      },
      "execution_count": null,
      "outputs": [
        {
          "output_type": "stream",
          "name": "stdout",
          "text": [
            "RangeIndex(start=0, stop=506, step=1)\n"
          ]
        }
      ]
    },
    {
      "cell_type": "markdown",
      "source": [
        "** D. Data Type of Row Index**"
      ],
      "metadata": {
        "id": "kvW6YN7b7SDX"
      }
    },
    {
      "cell_type": "code",
      "source": [
        "print(type(df_bos_1.index))\n"
      ],
      "metadata": {
        "colab": {
          "base_uri": "https://localhost:8080/"
        },
        "id": "ounRHQU_7D82",
        "outputId": "4c6686a0-d6a9-4f14-aac8-f4ff29f9e30f"
      },
      "execution_count": null,
      "outputs": [
        {
          "output_type": "stream",
          "name": "stdout",
          "text": [
            "<class 'pandas.core.indexes.range.RangeIndex'>\n"
          ]
        }
      ]
    },
    {
      "cell_type": "markdown",
      "source": [
        "** 2. Mean and Standard Deviation of ‘tax’**"
      ],
      "metadata": {
        "id": "SNR9LE_B7h29"
      }
    },
    {
      "cell_type": "code",
      "source": [
        "print(\"Mean:\", df_bos_1['tax'].mean())\n",
        "print(\"Standard Deviation:\", df_bos_1['tax'].std())\n"
      ],
      "metadata": {
        "colab": {
          "base_uri": "https://localhost:8080/"
        },
        "id": "FCbzFRnQ7a1p",
        "outputId": "5f9efe25-bc9e-4516-858b-41af861bfffd"
      },
      "execution_count": null,
      "outputs": [
        {
          "output_type": "stream",
          "name": "stdout",
          "text": [
            "Mean: 408.2371541501976\n",
            "Standard Deviation: 168.53711605495926\n"
          ]
        }
      ]
    },
    {
      "cell_type": "markdown",
      "source": [
        " **3. Create df_bos_2 Using Index Slicing**"
      ],
      "metadata": {
        "id": "KYfNp76w7s9f"
      }
    },
    {
      "cell_type": "code",
      "source": [
        "df_bos_2 = df_bos_1.iloc[10:20, 5:]\n",
        "print(df_bos_2)\n"
      ],
      "metadata": {
        "colab": {
          "base_uri": "https://localhost:8080/"
        },
        "id": "c57tK_4k7olT",
        "outputId": "c5db0ce2-33ab-40cc-b4ca-7cfba5ba5e70"
      },
      "execution_count": null,
      "outputs": [
        {
          "output_type": "stream",
          "name": "stdout",
          "text": [
            "      nox     rm   age     dis  rad  tax  ptratio  lstat  medv\n",
            "10  0.524  6.377  94.3  6.3467    5  311     15.2  20.45  15.0\n",
            "11  0.524  6.009  82.9  6.2267    5  311     15.2  13.27  18.9\n",
            "12  0.524  5.889  39.0  5.4509    5  311     15.2  15.71  21.7\n",
            "13  0.538  5.949  61.8  4.7075    4  307     21.0   8.26  20.4\n",
            "14  0.538  6.096  84.5  4.4619    4  307     21.0  10.26  18.2\n",
            "15  0.538  5.834  56.5  4.4986    4  307     21.0   8.47  19.9\n",
            "16  0.538  5.935  29.3  4.4986    4  307     21.0   6.58  23.1\n",
            "17  0.538  5.990  81.7  4.2579    4  307     21.0  14.67  17.5\n",
            "18  0.538  5.456  36.6  3.7965    4  307     21.0  11.69  20.2\n",
            "19  0.538  5.727  69.5  3.7965    4  307     21.0  11.28  18.2\n"
          ]
        }
      ]
    },
    {
      "cell_type": "markdown",
      "source": [
        "**Explanation of the above (# df_bos_2 = df_bos_1.iloc[10:20, 5:])**\n",
        "\n",
        "The command line above creates a new DataFrame called df_bos_2 by slicing rows and columns from another DataFrame df_bos_1.\n",
        "\n",
        "Breakdown:\n",
        "df_bos_1: This is our original DataFrame (Boston housing data).\n",
        "\n",
        ".iloc[]: This is used for index-based selection — it stands for \"integer location\" indexing.\n",
        "\n",
        "Inside iloc[10:20, 5:]:\n",
        "10:20: Selects rows from position 10 up to (but not including) 20.\n",
        "\n",
        "That's the 11th to 20th rows (because Python indexing starts at 0).\n",
        "\n",
        "5:: Selects columns from the 5th index position to the end.\n",
        "\n",
        "That means it will take the 6th column to the last column."
      ],
      "metadata": {
        "id": "lxAT3kSwLbta"
      }
    },
    {
      "cell_type": "markdown",
      "source": [
        "** 4.** **Create Series bos_tax and Display Last 10 Observations**"
      ],
      "metadata": {
        "id": "lIdP1TLS72-o"
      }
    },
    {
      "cell_type": "code",
      "source": [
        "bos_tax = df_bos_1['tax']\n",
        "print(bos_tax.tail(10))\n"
      ],
      "metadata": {
        "colab": {
          "base_uri": "https://localhost:8080/"
        },
        "id": "b2OMGyho7yzt",
        "outputId": "a9ea5733-68ae-4878-bb71-c6e4f963593a"
      },
      "execution_count": null,
      "outputs": [
        {
          "output_type": "stream",
          "name": "stdout",
          "text": [
            "496    391\n",
            "497    391\n",
            "498    391\n",
            "499    391\n",
            "500    391\n",
            "501    273\n",
            "502    273\n",
            "503    273\n",
            "504    273\n",
            "505    273\n",
            "Name: tax, dtype: int64\n"
          ]
        }
      ]
    },
    {
      "cell_type": "markdown",
      "source": [
        "**5a. Getting a CSV Dataset from Kaggle and load the CSV**"
      ],
      "metadata": {
        "id": "fk4VZoP2AiQA"
      }
    },
    {
      "cell_type": "code",
      "source": [
        "import pandas as pd\n",
        "\n",
        "url = \"https://raw.githubusercontent.com/prasertcbs/basic-dataset/master/netflix_titles.csv\"\n",
        "df_netflix = pd.read_csv(url)\n",
        "df_netflix.head()\n"
      ],
      "metadata": {
        "colab": {
          "base_uri": "https://localhost:8080/",
          "height": 397
        },
        "id": "mFuO-80L_X-k",
        "outputId": "cd53e56d-cd44-4181-9fe0-80115abb052f"
      },
      "execution_count": null,
      "outputs": [
        {
          "output_type": "execute_result",
          "data": {
            "text/plain": [
              "    show_id     type                                    title  \\\n",
              "0  81145628    Movie  Norm of the North: King Sized Adventure   \n",
              "1  80117401    Movie               Jandino: Whatever it Takes   \n",
              "2  70234439  TV Show                       Transformers Prime   \n",
              "3  80058654  TV Show         Transformers: Robots in Disguise   \n",
              "4  80125979    Movie                             #realityhigh   \n",
              "\n",
              "                   director  \\\n",
              "0  Richard Finn, Tim Maltby   \n",
              "1                       NaN   \n",
              "2                       NaN   \n",
              "3                       NaN   \n",
              "4          Fernando Lebrija   \n",
              "\n",
              "                                                cast  \\\n",
              "0  Alan Marriott, Andrew Toth, Brian Dobson, Cole...   \n",
              "1                                   Jandino Asporaat   \n",
              "2  Peter Cullen, Sumalee Montano, Frank Welker, J...   \n",
              "3  Will Friedle, Darren Criss, Constance Zimmer, ...   \n",
              "4  Nesta Cooper, Kate Walsh, John Michael Higgins...   \n",
              "\n",
              "                                    country         date_added  release_year  \\\n",
              "0  United States, India, South Korea, China  September 9, 2019          2019   \n",
              "1                            United Kingdom  September 9, 2016          2016   \n",
              "2                             United States  September 8, 2018          2013   \n",
              "3                             United States  September 8, 2018          2016   \n",
              "4                             United States  September 8, 2017          2017   \n",
              "\n",
              "     rating  duration                           listed_in  \\\n",
              "0     TV-PG    90 min  Children & Family Movies, Comedies   \n",
              "1     TV-MA    94 min                     Stand-Up Comedy   \n",
              "2  TV-Y7-FV  1 Season                            Kids' TV   \n",
              "3     TV-Y7  1 Season                            Kids' TV   \n",
              "4     TV-14    99 min                            Comedies   \n",
              "\n",
              "                                         description  \n",
              "0  Before planning an awesome wedding for his gra...  \n",
              "1  Jandino Asporaat riffs on the challenges of ra...  \n",
              "2  With the help of three human allies, the Autob...  \n",
              "3  When a prison ship crash unleashes hundreds of...  \n",
              "4  When nerdy high schooler Dani finally attracts...  "
            ],
            "text/html": [
              "\n",
              "  <div id=\"df-d58b9862-1e2b-4a73-9561-3fabd2707c3d\" class=\"colab-df-container\">\n",
              "    <div>\n",
              "<style scoped>\n",
              "    .dataframe tbody tr th:only-of-type {\n",
              "        vertical-align: middle;\n",
              "    }\n",
              "\n",
              "    .dataframe tbody tr th {\n",
              "        vertical-align: top;\n",
              "    }\n",
              "\n",
              "    .dataframe thead th {\n",
              "        text-align: right;\n",
              "    }\n",
              "</style>\n",
              "<table border=\"1\" class=\"dataframe\">\n",
              "  <thead>\n",
              "    <tr style=\"text-align: right;\">\n",
              "      <th></th>\n",
              "      <th>show_id</th>\n",
              "      <th>type</th>\n",
              "      <th>title</th>\n",
              "      <th>director</th>\n",
              "      <th>cast</th>\n",
              "      <th>country</th>\n",
              "      <th>date_added</th>\n",
              "      <th>release_year</th>\n",
              "      <th>rating</th>\n",
              "      <th>duration</th>\n",
              "      <th>listed_in</th>\n",
              "      <th>description</th>\n",
              "    </tr>\n",
              "  </thead>\n",
              "  <tbody>\n",
              "    <tr>\n",
              "      <th>0</th>\n",
              "      <td>81145628</td>\n",
              "      <td>Movie</td>\n",
              "      <td>Norm of the North: King Sized Adventure</td>\n",
              "      <td>Richard Finn, Tim Maltby</td>\n",
              "      <td>Alan Marriott, Andrew Toth, Brian Dobson, Cole...</td>\n",
              "      <td>United States, India, South Korea, China</td>\n",
              "      <td>September 9, 2019</td>\n",
              "      <td>2019</td>\n",
              "      <td>TV-PG</td>\n",
              "      <td>90 min</td>\n",
              "      <td>Children &amp; Family Movies, Comedies</td>\n",
              "      <td>Before planning an awesome wedding for his gra...</td>\n",
              "    </tr>\n",
              "    <tr>\n",
              "      <th>1</th>\n",
              "      <td>80117401</td>\n",
              "      <td>Movie</td>\n",
              "      <td>Jandino: Whatever it Takes</td>\n",
              "      <td>NaN</td>\n",
              "      <td>Jandino Asporaat</td>\n",
              "      <td>United Kingdom</td>\n",
              "      <td>September 9, 2016</td>\n",
              "      <td>2016</td>\n",
              "      <td>TV-MA</td>\n",
              "      <td>94 min</td>\n",
              "      <td>Stand-Up Comedy</td>\n",
              "      <td>Jandino Asporaat riffs on the challenges of ra...</td>\n",
              "    </tr>\n",
              "    <tr>\n",
              "      <th>2</th>\n",
              "      <td>70234439</td>\n",
              "      <td>TV Show</td>\n",
              "      <td>Transformers Prime</td>\n",
              "      <td>NaN</td>\n",
              "      <td>Peter Cullen, Sumalee Montano, Frank Welker, J...</td>\n",
              "      <td>United States</td>\n",
              "      <td>September 8, 2018</td>\n",
              "      <td>2013</td>\n",
              "      <td>TV-Y7-FV</td>\n",
              "      <td>1 Season</td>\n",
              "      <td>Kids' TV</td>\n",
              "      <td>With the help of three human allies, the Autob...</td>\n",
              "    </tr>\n",
              "    <tr>\n",
              "      <th>3</th>\n",
              "      <td>80058654</td>\n",
              "      <td>TV Show</td>\n",
              "      <td>Transformers: Robots in Disguise</td>\n",
              "      <td>NaN</td>\n",
              "      <td>Will Friedle, Darren Criss, Constance Zimmer, ...</td>\n",
              "      <td>United States</td>\n",
              "      <td>September 8, 2018</td>\n",
              "      <td>2016</td>\n",
              "      <td>TV-Y7</td>\n",
              "      <td>1 Season</td>\n",
              "      <td>Kids' TV</td>\n",
              "      <td>When a prison ship crash unleashes hundreds of...</td>\n",
              "    </tr>\n",
              "    <tr>\n",
              "      <th>4</th>\n",
              "      <td>80125979</td>\n",
              "      <td>Movie</td>\n",
              "      <td>#realityhigh</td>\n",
              "      <td>Fernando Lebrija</td>\n",
              "      <td>Nesta Cooper, Kate Walsh, John Michael Higgins...</td>\n",
              "      <td>United States</td>\n",
              "      <td>September 8, 2017</td>\n",
              "      <td>2017</td>\n",
              "      <td>TV-14</td>\n",
              "      <td>99 min</td>\n",
              "      <td>Comedies</td>\n",
              "      <td>When nerdy high schooler Dani finally attracts...</td>\n",
              "    </tr>\n",
              "  </tbody>\n",
              "</table>\n",
              "</div>\n",
              "    <div class=\"colab-df-buttons\">\n",
              "\n",
              "  <div class=\"colab-df-container\">\n",
              "    <button class=\"colab-df-convert\" onclick=\"convertToInteractive('df-d58b9862-1e2b-4a73-9561-3fabd2707c3d')\"\n",
              "            title=\"Convert this dataframe to an interactive table.\"\n",
              "            style=\"display:none;\">\n",
              "\n",
              "  <svg xmlns=\"http://www.w3.org/2000/svg\" height=\"24px\" viewBox=\"0 -960 960 960\">\n",
              "    <path d=\"M120-120v-720h720v720H120Zm60-500h600v-160H180v160Zm220 220h160v-160H400v160Zm0 220h160v-160H400v160ZM180-400h160v-160H180v160Zm440 0h160v-160H620v160ZM180-180h160v-160H180v160Zm440 0h160v-160H620v160Z\"/>\n",
              "  </svg>\n",
              "    </button>\n",
              "\n",
              "  <style>\n",
              "    .colab-df-container {\n",
              "      display:flex;\n",
              "      gap: 12px;\n",
              "    }\n",
              "\n",
              "    .colab-df-convert {\n",
              "      background-color: #E8F0FE;\n",
              "      border: none;\n",
              "      border-radius: 50%;\n",
              "      cursor: pointer;\n",
              "      display: none;\n",
              "      fill: #1967D2;\n",
              "      height: 32px;\n",
              "      padding: 0 0 0 0;\n",
              "      width: 32px;\n",
              "    }\n",
              "\n",
              "    .colab-df-convert:hover {\n",
              "      background-color: #E2EBFA;\n",
              "      box-shadow: 0px 1px 2px rgba(60, 64, 67, 0.3), 0px 1px 3px 1px rgba(60, 64, 67, 0.15);\n",
              "      fill: #174EA6;\n",
              "    }\n",
              "\n",
              "    .colab-df-buttons div {\n",
              "      margin-bottom: 4px;\n",
              "    }\n",
              "\n",
              "    [theme=dark] .colab-df-convert {\n",
              "      background-color: #3B4455;\n",
              "      fill: #D2E3FC;\n",
              "    }\n",
              "\n",
              "    [theme=dark] .colab-df-convert:hover {\n",
              "      background-color: #434B5C;\n",
              "      box-shadow: 0px 1px 3px 1px rgba(0, 0, 0, 0.15);\n",
              "      filter: drop-shadow(0px 1px 2px rgba(0, 0, 0, 0.3));\n",
              "      fill: #FFFFFF;\n",
              "    }\n",
              "  </style>\n",
              "\n",
              "    <script>\n",
              "      const buttonEl =\n",
              "        document.querySelector('#df-d58b9862-1e2b-4a73-9561-3fabd2707c3d button.colab-df-convert');\n",
              "      buttonEl.style.display =\n",
              "        google.colab.kernel.accessAllowed ? 'block' : 'none';\n",
              "\n",
              "      async function convertToInteractive(key) {\n",
              "        const element = document.querySelector('#df-d58b9862-1e2b-4a73-9561-3fabd2707c3d');\n",
              "        const dataTable =\n",
              "          await google.colab.kernel.invokeFunction('convertToInteractive',\n",
              "                                                    [key], {});\n",
              "        if (!dataTable) return;\n",
              "\n",
              "        const docLinkHtml = 'Like what you see? Visit the ' +\n",
              "          '<a target=\"_blank\" href=https://colab.research.google.com/notebooks/data_table.ipynb>data table notebook</a>'\n",
              "          + ' to learn more about interactive tables.';\n",
              "        element.innerHTML = '';\n",
              "        dataTable['output_type'] = 'display_data';\n",
              "        await google.colab.output.renderOutput(dataTable, element);\n",
              "        const docLink = document.createElement('div');\n",
              "        docLink.innerHTML = docLinkHtml;\n",
              "        element.appendChild(docLink);\n",
              "      }\n",
              "    </script>\n",
              "  </div>\n",
              "\n",
              "\n",
              "<div id=\"df-6a4e26a5-b579-4c7b-b98d-cd045ed9f446\">\n",
              "  <button class=\"colab-df-quickchart\" onclick=\"quickchart('df-6a4e26a5-b579-4c7b-b98d-cd045ed9f446')\"\n",
              "            title=\"Suggest charts\"\n",
              "            style=\"display:none;\">\n",
              "\n",
              "<svg xmlns=\"http://www.w3.org/2000/svg\" height=\"24px\"viewBox=\"0 0 24 24\"\n",
              "     width=\"24px\">\n",
              "    <g>\n",
              "        <path d=\"M19 3H5c-1.1 0-2 .9-2 2v14c0 1.1.9 2 2 2h14c1.1 0 2-.9 2-2V5c0-1.1-.9-2-2-2zM9 17H7v-7h2v7zm4 0h-2V7h2v10zm4 0h-2v-4h2v4z\"/>\n",
              "    </g>\n",
              "</svg>\n",
              "  </button>\n",
              "\n",
              "<style>\n",
              "  .colab-df-quickchart {\n",
              "      --bg-color: #E8F0FE;\n",
              "      --fill-color: #1967D2;\n",
              "      --hover-bg-color: #E2EBFA;\n",
              "      --hover-fill-color: #174EA6;\n",
              "      --disabled-fill-color: #AAA;\n",
              "      --disabled-bg-color: #DDD;\n",
              "  }\n",
              "\n",
              "  [theme=dark] .colab-df-quickchart {\n",
              "      --bg-color: #3B4455;\n",
              "      --fill-color: #D2E3FC;\n",
              "      --hover-bg-color: #434B5C;\n",
              "      --hover-fill-color: #FFFFFF;\n",
              "      --disabled-bg-color: #3B4455;\n",
              "      --disabled-fill-color: #666;\n",
              "  }\n",
              "\n",
              "  .colab-df-quickchart {\n",
              "    background-color: var(--bg-color);\n",
              "    border: none;\n",
              "    border-radius: 50%;\n",
              "    cursor: pointer;\n",
              "    display: none;\n",
              "    fill: var(--fill-color);\n",
              "    height: 32px;\n",
              "    padding: 0;\n",
              "    width: 32px;\n",
              "  }\n",
              "\n",
              "  .colab-df-quickchart:hover {\n",
              "    background-color: var(--hover-bg-color);\n",
              "    box-shadow: 0 1px 2px rgba(60, 64, 67, 0.3), 0 1px 3px 1px rgba(60, 64, 67, 0.15);\n",
              "    fill: var(--button-hover-fill-color);\n",
              "  }\n",
              "\n",
              "  .colab-df-quickchart-complete:disabled,\n",
              "  .colab-df-quickchart-complete:disabled:hover {\n",
              "    background-color: var(--disabled-bg-color);\n",
              "    fill: var(--disabled-fill-color);\n",
              "    box-shadow: none;\n",
              "  }\n",
              "\n",
              "  .colab-df-spinner {\n",
              "    border: 2px solid var(--fill-color);\n",
              "    border-color: transparent;\n",
              "    border-bottom-color: var(--fill-color);\n",
              "    animation:\n",
              "      spin 1s steps(1) infinite;\n",
              "  }\n",
              "\n",
              "  @keyframes spin {\n",
              "    0% {\n",
              "      border-color: transparent;\n",
              "      border-bottom-color: var(--fill-color);\n",
              "      border-left-color: var(--fill-color);\n",
              "    }\n",
              "    20% {\n",
              "      border-color: transparent;\n",
              "      border-left-color: var(--fill-color);\n",
              "      border-top-color: var(--fill-color);\n",
              "    }\n",
              "    30% {\n",
              "      border-color: transparent;\n",
              "      border-left-color: var(--fill-color);\n",
              "      border-top-color: var(--fill-color);\n",
              "      border-right-color: var(--fill-color);\n",
              "    }\n",
              "    40% {\n",
              "      border-color: transparent;\n",
              "      border-right-color: var(--fill-color);\n",
              "      border-top-color: var(--fill-color);\n",
              "    }\n",
              "    60% {\n",
              "      border-color: transparent;\n",
              "      border-right-color: var(--fill-color);\n",
              "    }\n",
              "    80% {\n",
              "      border-color: transparent;\n",
              "      border-right-color: var(--fill-color);\n",
              "      border-bottom-color: var(--fill-color);\n",
              "    }\n",
              "    90% {\n",
              "      border-color: transparent;\n",
              "      border-bottom-color: var(--fill-color);\n",
              "    }\n",
              "  }\n",
              "</style>\n",
              "\n",
              "  <script>\n",
              "    async function quickchart(key) {\n",
              "      const quickchartButtonEl =\n",
              "        document.querySelector('#' + key + ' button');\n",
              "      quickchartButtonEl.disabled = true;  // To prevent multiple clicks.\n",
              "      quickchartButtonEl.classList.add('colab-df-spinner');\n",
              "      try {\n",
              "        const charts = await google.colab.kernel.invokeFunction(\n",
              "            'suggestCharts', [key], {});\n",
              "      } catch (error) {\n",
              "        console.error('Error during call to suggestCharts:', error);\n",
              "      }\n",
              "      quickchartButtonEl.classList.remove('colab-df-spinner');\n",
              "      quickchartButtonEl.classList.add('colab-df-quickchart-complete');\n",
              "    }\n",
              "    (() => {\n",
              "      let quickchartButtonEl =\n",
              "        document.querySelector('#df-6a4e26a5-b579-4c7b-b98d-cd045ed9f446 button');\n",
              "      quickchartButtonEl.style.display =\n",
              "        google.colab.kernel.accessAllowed ? 'block' : 'none';\n",
              "    })();\n",
              "  </script>\n",
              "</div>\n",
              "\n",
              "    </div>\n",
              "  </div>\n"
            ],
            "application/vnd.google.colaboratory.intrinsic+json": {
              "type": "dataframe",
              "variable_name": "df_netflix",
              "summary": "{\n  \"name\": \"df_netflix\",\n  \"rows\": 6234,\n  \"fields\": [\n    {\n      \"column\": \"show_id\",\n      \"properties\": {\n        \"dtype\": \"number\",\n        \"std\": 10942964,\n        \"min\": 247747,\n        \"max\": 81235729,\n        \"num_unique_values\": 6234,\n        \"samples\": [\n          81025317,\n          80184422,\n          80232914\n        ],\n        \"semantic_type\": \"\",\n        \"description\": \"\"\n      }\n    },\n    {\n      \"column\": \"type\",\n      \"properties\": {\n        \"dtype\": \"category\",\n        \"num_unique_values\": 2,\n        \"samples\": [\n          \"TV Show\",\n          \"Movie\"\n        ],\n        \"semantic_type\": \"\",\n        \"description\": \"\"\n      }\n    },\n    {\n      \"column\": \"title\",\n      \"properties\": {\n        \"dtype\": \"string\",\n        \"num_unique_values\": 6172,\n        \"samples\": [\n          \"Hulk Vs.\",\n          \"Khan: No. 1 Crime Hunter\"\n        ],\n        \"semantic_type\": \"\",\n        \"description\": \"\"\n      }\n    },\n    {\n      \"column\": \"director\",\n      \"properties\": {\n        \"dtype\": \"string\",\n        \"num_unique_values\": 3301,\n        \"samples\": [\n          \"Jacob LaMendola\",\n          \"Marita Grabiak\"\n        ],\n        \"semantic_type\": \"\",\n        \"description\": \"\"\n      }\n    },\n    {\n      \"column\": \"cast\",\n      \"properties\": {\n        \"dtype\": \"string\",\n        \"num_unique_values\": 5469,\n        \"samples\": [\n          \"Mick Rock\",\n          \"Dakore Akande, Ireti Doyle, Nse Ikpe-Etim, Omoni Oboli\"\n        ],\n        \"semantic_type\": \"\",\n        \"description\": \"\"\n      }\n    },\n    {\n      \"column\": \"country\",\n      \"properties\": {\n        \"dtype\": \"category\",\n        \"num_unique_values\": 554,\n        \"samples\": [\n          \"Switzerland\",\n          \"Argentina\"\n        ],\n        \"semantic_type\": \"\",\n        \"description\": \"\"\n      }\n    },\n    {\n      \"column\": \"date_added\",\n      \"properties\": {\n        \"dtype\": \"category\",\n        \"num_unique_values\": 1524,\n        \"samples\": [\n          \"February 24, 2016\",\n          \"September 14, 2019\"\n        ],\n        \"semantic_type\": \"\",\n        \"description\": \"\"\n      }\n    },\n    {\n      \"column\": \"release_year\",\n      \"properties\": {\n        \"dtype\": \"number\",\n        \"std\": 8,\n        \"min\": 1925,\n        \"max\": 2020,\n        \"num_unique_values\": 72,\n        \"samples\": [\n          2014,\n          1944\n        ],\n        \"semantic_type\": \"\",\n        \"description\": \"\"\n      }\n    },\n    {\n      \"column\": \"rating\",\n      \"properties\": {\n        \"dtype\": \"category\",\n        \"num_unique_values\": 14,\n        \"samples\": [\n          \"TV-G\",\n          \"G\"\n        ],\n        \"semantic_type\": \"\",\n        \"description\": \"\"\n      }\n    },\n    {\n      \"column\": \"duration\",\n      \"properties\": {\n        \"dtype\": \"category\",\n        \"num_unique_values\": 201,\n        \"samples\": [\n          \"151 min\",\n          \"79 min\"\n        ],\n        \"semantic_type\": \"\",\n        \"description\": \"\"\n      }\n    },\n    {\n      \"column\": \"listed_in\",\n      \"properties\": {\n        \"dtype\": \"category\",\n        \"num_unique_values\": 461,\n        \"samples\": [\n          \"Action & Adventure, Independent Movies, Sci-Fi & Fantasy\",\n          \"Comedies, Dramas, International Movies\"\n        ],\n        \"semantic_type\": \"\",\n        \"description\": \"\"\n      }\n    },\n    {\n      \"column\": \"description\",\n      \"properties\": {\n        \"dtype\": \"string\",\n        \"num_unique_values\": 6226,\n        \"samples\": [\n          \"Learning that her father has married a woman her own age, Kanaya leaves home, only to get into an accident that lands her in a haunted hospital.\",\n          \"Born with supernatural strength, Bong-soon fights evil and procures justice while getting tangled in a love triangle with her CEO boss and cop crush.\"\n        ],\n        \"semantic_type\": \"\",\n        \"description\": \"\"\n      }\n    }\n  ]\n}"
            }
          },
          "metadata": {},
          "execution_count": 13
        }
      ]
    },
    {
      "cell_type": "markdown",
      "source": [
        "**5b. Check for Missing Values (NaNs)**"
      ],
      "metadata": {
        "id": "PA9cxvwFAF1K"
      }
    },
    {
      "cell_type": "code",
      "source": [
        "print(df_netflix.isna().sum())\n",
        "\n"
      ],
      "metadata": {
        "colab": {
          "base_uri": "https://localhost:8080/"
        },
        "id": "IU6odlDR_0q2",
        "outputId": "f511d17b-7c37-4083-e307-c8264a147009"
      },
      "execution_count": null,
      "outputs": [
        {
          "output_type": "stream",
          "name": "stdout",
          "text": [
            "show_id            0\n",
            "type               0\n",
            "title              0\n",
            "director        1969\n",
            "cast             570\n",
            "country          476\n",
            "date_added        11\n",
            "release_year       0\n",
            "rating            10\n",
            "duration           0\n",
            "listed_in          0\n",
            "description        0\n",
            "dtype: int64\n"
          ]
        }
      ]
    },
    {
      "cell_type": "markdown",
      "source": [
        "**What the above Code Does:**\n",
        "✔️ It checks every row in the entire DataFrame (df_netflix)\n",
        "✔️ For each column, it adds up how many times NaN (missing value) appears\n",
        "✔️ It returns a summary — showing how many missing values are in each column"
      ],
      "metadata": {
        "id": "d75T1uc7WTq0"
      }
    },
    {
      "cell_type": "markdown",
      "source": [
        "**5c. Descriptive Statistics**"
      ],
      "metadata": {
        "id": "D-8KKwhNBCUD"
      }
    },
    {
      "cell_type": "code",
      "source": [
        "print(df_netflix.describe(include='all'))  # include='all' to see both numeric and categorical\n"
      ],
      "metadata": {
        "colab": {
          "base_uri": "https://localhost:8080/"
        },
        "id": "bIbfIvNgAAiK",
        "outputId": "751e5c55-3442-446f-c885-368c90e36ffe"
      },
      "execution_count": null,
      "outputs": [
        {
          "output_type": "stream",
          "name": "stdout",
          "text": [
            "             show_id   type        title                director  \\\n",
            "count   6.234000e+03   6234         6234                    4265   \n",
            "unique           NaN      2         6172                    3301   \n",
            "top              NaN  Movie  The Silence  Raúl Campos, Jan Suter   \n",
            "freq             NaN   4265            3                      18   \n",
            "mean    7.670368e+07    NaN          NaN                     NaN   \n",
            "std     1.094296e+07    NaN          NaN                     NaN   \n",
            "min     2.477470e+05    NaN          NaN                     NaN   \n",
            "25%     8.003580e+07    NaN          NaN                     NaN   \n",
            "50%     8.016337e+07    NaN          NaN                     NaN   \n",
            "75%     8.024489e+07    NaN          NaN                     NaN   \n",
            "max     8.123573e+07    NaN          NaN                     NaN   \n",
            "\n",
            "                      cast        country       date_added  release_year  \\\n",
            "count                 5664           5758             6223    6234.00000   \n",
            "unique                5469            554             1524           NaN   \n",
            "top     David Attenborough  United States  January 1, 2020           NaN   \n",
            "freq                    18           2032              122           NaN   \n",
            "mean                   NaN            NaN              NaN    2013.35932   \n",
            "std                    NaN            NaN              NaN       8.81162   \n",
            "min                    NaN            NaN              NaN    1925.00000   \n",
            "25%                    NaN            NaN              NaN    2013.00000   \n",
            "50%                    NaN            NaN              NaN    2016.00000   \n",
            "75%                    NaN            NaN              NaN    2018.00000   \n",
            "max                    NaN            NaN              NaN    2020.00000   \n",
            "\n",
            "       rating  duration      listed_in  \\\n",
            "count    6224      6234           6234   \n",
            "unique     14       201            461   \n",
            "top     TV-MA  1 Season  Documentaries   \n",
            "freq     2027      1321            299   \n",
            "mean      NaN       NaN            NaN   \n",
            "std       NaN       NaN            NaN   \n",
            "min       NaN       NaN            NaN   \n",
            "25%       NaN       NaN            NaN   \n",
            "50%       NaN       NaN            NaN   \n",
            "75%       NaN       NaN            NaN   \n",
            "max       NaN       NaN            NaN   \n",
            "\n",
            "                                              description  \n",
            "count                                                6234  \n",
            "unique                                               6226  \n",
            "top     A surly septuagenarian gets another chance at ...  \n",
            "freq                                                    3  \n",
            "mean                                                  NaN  \n",
            "std                                                   NaN  \n",
            "min                                                   NaN  \n",
            "25%                                                   NaN  \n",
            "50%                                                   NaN  \n",
            "75%                                                   NaN  \n",
            "max                                                   NaN  \n"
          ]
        }
      ]
    },
    {
      "cell_type": "markdown",
      "source": [
        "**5d. Identify any categorical data features (features are simply the columns)**"
      ],
      "metadata": {
        "id": "vfbLCuANBPhu"
      }
    },
    {
      "cell_type": "code",
      "source": [
        "categorical_columns = df_netflix.select_dtypes(include=['object']).columns\n",
        "print(\"Categorical columns:\", list(categorical_columns))\n"
      ],
      "metadata": {
        "colab": {
          "base_uri": "https://localhost:8080/"
        },
        "id": "ZflV1MN-BK6E",
        "outputId": "e16f7a1a-2fb5-45b4-b8f9-c5b44be12604"
      },
      "execution_count": null,
      "outputs": [
        {
          "output_type": "stream",
          "name": "stdout",
          "text": [
            "Categorical columns: ['type', 'title', 'director', 'cast', 'country', 'date_added', 'rating', 'duration', 'listed_in', 'description']\n"
          ]
        }
      ]
    },
    {
      "cell_type": "markdown",
      "source": [
        "**6(a-d). Create df1 and df2**"
      ],
      "metadata": {
        "id": "xWHDSUaZBusr"
      }
    },
    {
      "cell_type": "code",
      "source": [
        "import numpy as np\n",
        "\n",
        "# DataFrame 1\n",
        "df1 = pd.DataFrame(\n",
        "    np.arange(50).reshape(10, 5),\n",
        "    columns=[\"Mon\", \"Tues\", \"Wed\", \"Thurs\", \"Fri\"]\n",
        ")\n",
        "\n",
        "# DataFrame 2\n",
        "df2 = pd.DataFrame(\n",
        "    np.arange(20).reshape(5, 4),\n",
        "    columns=[\"Thurs\", \"Fri\", \"Sar\", \"Sun\"]\n",
        ")\n"
      ],
      "metadata": {
        "id": "dySwrqXVBbnF"
      },
      "execution_count": null,
      "outputs": []
    },
    {
      "cell_type": "markdown",
      "source": [
        "**6e. Merge df1 and df2 into df3 (Outer Merge to keep all indexes/columns)**"
      ],
      "metadata": {
        "id": "__ksXIf1CcRo"
      }
    },
    {
      "cell_type": "code",
      "source": [
        "df3 = pd.concat([df1, df2], axis=0, sort=False)\n",
        "\n",
        "# Resetting index for better alignment\n",
        "df3.reset_index(drop=True, inplace=True)\n",
        "\n",
        "print(df3)\n"
      ],
      "metadata": {
        "colab": {
          "base_uri": "https://localhost:8080/"
        },
        "id": "XtrCwxPFB7dZ",
        "outputId": "0d630fef-1d39-44d1-db80-db27e8aad198"
      },
      "execution_count": null,
      "outputs": [
        {
          "output_type": "stream",
          "name": "stdout",
          "text": [
            "     Mon  Tues   Wed  Thurs  Fri   Sar   Sun\n",
            "0    0.0   1.0   2.0      3    4   NaN   NaN\n",
            "1    5.0   6.0   7.0      8    9   NaN   NaN\n",
            "2   10.0  11.0  12.0     13   14   NaN   NaN\n",
            "3   15.0  16.0  17.0     18   19   NaN   NaN\n",
            "4   20.0  21.0  22.0     23   24   NaN   NaN\n",
            "5   25.0  26.0  27.0     28   29   NaN   NaN\n",
            "6   30.0  31.0  32.0     33   34   NaN   NaN\n",
            "7   35.0  36.0  37.0     38   39   NaN   NaN\n",
            "8   40.0  41.0  42.0     43   44   NaN   NaN\n",
            "9   45.0  46.0  47.0     48   49   NaN   NaN\n",
            "10   NaN   NaN   NaN      0    1   2.0   3.0\n",
            "11   NaN   NaN   NaN      4    5   6.0   7.0\n",
            "12   NaN   NaN   NaN      8    9  10.0  11.0\n",
            "13   NaN   NaN   NaN     12   13  14.0  15.0\n",
            "14   NaN   NaN   NaN     16   17  18.0  19.0\n"
          ]
        }
      ]
    },
    {
      "cell_type": "markdown",
      "source": [
        "**6f. Why Are NaNs Present in This Merge?**"
      ],
      "metadata": {
        "id": "GEXSAnfICyr8"
      }
    },
    {
      "cell_type": "code",
      "source": [
        "# NaNs appear because df1 and df2 have different sets of columns.\n",
        "# When using concat with axis=0, all unique columns are preserved.\n",
        "# If a row doesn't have data for a particular column (like 'Sar' or 'Sun' in df1),\n",
        "# pandas fills that position with NaN.\n"
      ],
      "metadata": {
        "id": "AH4mP90PCwMk"
      },
      "execution_count": null,
      "outputs": []
    },
    {
      "cell_type": "markdown",
      "source": [
        "\n",
        "**Other Notes:**\n",
        "NaN stands for \"Not a Number.\"\n",
        "**What does it mean in programming or data analysis?**\n",
        "In libraries like pandas and NumPy, NaN represents missing, undefined, or null values in a dataset.\n",
        "\n",
        "**It’s used as a placeholder when data is incomplete, corrupt, or not applicable.**\n",
        "\n"
      ],
      "metadata": {
        "id": "A77k2cENDe6K"
      }
    }
  ]
}