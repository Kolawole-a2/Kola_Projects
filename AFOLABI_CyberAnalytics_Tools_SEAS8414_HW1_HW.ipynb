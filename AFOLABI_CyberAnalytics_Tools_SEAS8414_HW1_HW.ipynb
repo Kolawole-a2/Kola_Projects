{
  "nbformat": 4,
  "nbformat_minor": 0,
  "metadata": {
    "colab": {
      "provenance": [],
      "authorship_tag": "ABX9TyNhXKmBFM3tIwDzNqvf0Q3g",
      "include_colab_link": true
    },
    "kernelspec": {
      "name": "python3",
      "display_name": "Python 3"
    },
    "language_info": {
      "name": "python"
    }
  },
  "cells": [
    {
      "cell_type": "markdown",
      "metadata": {
        "id": "view-in-github",
        "colab_type": "text"
      },
      "source": [
        "<a href=\"https://colab.research.google.com/github/Kolawole-a2/Kola_Projects/blob/main/AFOLABI_CyberAnalytics_Tools_SEAS8414_HW1_HW.ipynb\" target=\"_parent\"><img src=\"https://colab.research.google.com/assets/colab-badge.svg\" alt=\"Open In Colab\"/></a>"
      ]
    },
    {
      "cell_type": "code",
      "source": [
        "# Step 1: Install required packages\n",
        "!pip install pandas numpy transformers --quiet\n",
        "\n",
        "# Step 2: Use an interactive uploader for notebooks (e.g., Google Colab or Jupyter)\n",
        "from IPython.display import display\n",
        "from google.colab import files\n",
        "import pandas as pd\n",
        "import numpy as np\n",
        "\n",
        "# Upload file\n",
        "uploaded = files.upload()\n",
        "\n",
        "# Assuming only one file is uploaded\n",
        "filename = list(uploaded.keys())[0]\n",
        "\n",
        "# Step 3: Load and explore the data\n",
        "df = pd.read_csv(filename)\n",
        "\n",
        "# Show basic info\n",
        "print(\"DataFrame loaded successfully!\")\n",
        "print(\"\\nShape of DataFrame:\", df.shape)\n",
        "print(\"\\nColumns:\", df.columns.tolist())\n",
        "print(\"\\nFirst 5 rows:\")\n",
        "display(df.head())\n"
      ],
      "metadata": {
        "colab": {
          "base_uri": "https://localhost:8080/",
          "height": 594
        },
        "id": "7aYbN7BdU4oh",
        "outputId": "b687ac00-6dfb-4332-9395-86432a596286"
      },
      "execution_count": null,
      "outputs": [
        {
          "output_type": "display_data",
          "data": {
            "text/plain": [
              "<IPython.core.display.HTML object>"
            ],
            "text/html": [
              "\n",
              "     <input type=\"file\" id=\"files-3ab641db-62be-43a9-8102-48d033b608cd\" name=\"files[]\" multiple disabled\n",
              "        style=\"border:none\" />\n",
              "     <output id=\"result-3ab641db-62be-43a9-8102-48d033b608cd\">\n",
              "      Upload widget is only available when the cell has been executed in the\n",
              "      current browser session. Please rerun this cell to enable.\n",
              "      </output>\n",
              "      <script>// Copyright 2017 Google LLC\n",
              "//\n",
              "// Licensed under the Apache License, Version 2.0 (the \"License\");\n",
              "// you may not use this file except in compliance with the License.\n",
              "// You may obtain a copy of the License at\n",
              "//\n",
              "//      http://www.apache.org/licenses/LICENSE-2.0\n",
              "//\n",
              "// Unless required by applicable law or agreed to in writing, software\n",
              "// distributed under the License is distributed on an \"AS IS\" BASIS,\n",
              "// WITHOUT WARRANTIES OR CONDITIONS OF ANY KIND, either express or implied.\n",
              "// See the License for the specific language governing permissions and\n",
              "// limitations under the License.\n",
              "\n",
              "/**\n",
              " * @fileoverview Helpers for google.colab Python module.\n",
              " */\n",
              "(function(scope) {\n",
              "function span(text, styleAttributes = {}) {\n",
              "  const element = document.createElement('span');\n",
              "  element.textContent = text;\n",
              "  for (const key of Object.keys(styleAttributes)) {\n",
              "    element.style[key] = styleAttributes[key];\n",
              "  }\n",
              "  return element;\n",
              "}\n",
              "\n",
              "// Max number of bytes which will be uploaded at a time.\n",
              "const MAX_PAYLOAD_SIZE = 100 * 1024;\n",
              "\n",
              "function _uploadFiles(inputId, outputId) {\n",
              "  const steps = uploadFilesStep(inputId, outputId);\n",
              "  const outputElement = document.getElementById(outputId);\n",
              "  // Cache steps on the outputElement to make it available for the next call\n",
              "  // to uploadFilesContinue from Python.\n",
              "  outputElement.steps = steps;\n",
              "\n",
              "  return _uploadFilesContinue(outputId);\n",
              "}\n",
              "\n",
              "// This is roughly an async generator (not supported in the browser yet),\n",
              "// where there are multiple asynchronous steps and the Python side is going\n",
              "// to poll for completion of each step.\n",
              "// This uses a Promise to block the python side on completion of each step,\n",
              "// then passes the result of the previous step as the input to the next step.\n",
              "function _uploadFilesContinue(outputId) {\n",
              "  const outputElement = document.getElementById(outputId);\n",
              "  const steps = outputElement.steps;\n",
              "\n",
              "  const next = steps.next(outputElement.lastPromiseValue);\n",
              "  return Promise.resolve(next.value.promise).then((value) => {\n",
              "    // Cache the last promise value to make it available to the next\n",
              "    // step of the generator.\n",
              "    outputElement.lastPromiseValue = value;\n",
              "    return next.value.response;\n",
              "  });\n",
              "}\n",
              "\n",
              "/**\n",
              " * Generator function which is called between each async step of the upload\n",
              " * process.\n",
              " * @param {string} inputId Element ID of the input file picker element.\n",
              " * @param {string} outputId Element ID of the output display.\n",
              " * @return {!Iterable<!Object>} Iterable of next steps.\n",
              " */\n",
              "function* uploadFilesStep(inputId, outputId) {\n",
              "  const inputElement = document.getElementById(inputId);\n",
              "  inputElement.disabled = false;\n",
              "\n",
              "  const outputElement = document.getElementById(outputId);\n",
              "  outputElement.innerHTML = '';\n",
              "\n",
              "  const pickedPromise = new Promise((resolve) => {\n",
              "    inputElement.addEventListener('change', (e) => {\n",
              "      resolve(e.target.files);\n",
              "    });\n",
              "  });\n",
              "\n",
              "  const cancel = document.createElement('button');\n",
              "  inputElement.parentElement.appendChild(cancel);\n",
              "  cancel.textContent = 'Cancel upload';\n",
              "  const cancelPromise = new Promise((resolve) => {\n",
              "    cancel.onclick = () => {\n",
              "      resolve(null);\n",
              "    };\n",
              "  });\n",
              "\n",
              "  // Wait for the user to pick the files.\n",
              "  const files = yield {\n",
              "    promise: Promise.race([pickedPromise, cancelPromise]),\n",
              "    response: {\n",
              "      action: 'starting',\n",
              "    }\n",
              "  };\n",
              "\n",
              "  cancel.remove();\n",
              "\n",
              "  // Disable the input element since further picks are not allowed.\n",
              "  inputElement.disabled = true;\n",
              "\n",
              "  if (!files) {\n",
              "    return {\n",
              "      response: {\n",
              "        action: 'complete',\n",
              "      }\n",
              "    };\n",
              "  }\n",
              "\n",
              "  for (const file of files) {\n",
              "    const li = document.createElement('li');\n",
              "    li.append(span(file.name, {fontWeight: 'bold'}));\n",
              "    li.append(span(\n",
              "        `(${file.type || 'n/a'}) - ${file.size} bytes, ` +\n",
              "        `last modified: ${\n",
              "            file.lastModifiedDate ? file.lastModifiedDate.toLocaleDateString() :\n",
              "                                    'n/a'} - `));\n",
              "    const percent = span('0% done');\n",
              "    li.appendChild(percent);\n",
              "\n",
              "    outputElement.appendChild(li);\n",
              "\n",
              "    const fileDataPromise = new Promise((resolve) => {\n",
              "      const reader = new FileReader();\n",
              "      reader.onload = (e) => {\n",
              "        resolve(e.target.result);\n",
              "      };\n",
              "      reader.readAsArrayBuffer(file);\n",
              "    });\n",
              "    // Wait for the data to be ready.\n",
              "    let fileData = yield {\n",
              "      promise: fileDataPromise,\n",
              "      response: {\n",
              "        action: 'continue',\n",
              "      }\n",
              "    };\n",
              "\n",
              "    // Use a chunked sending to avoid message size limits. See b/62115660.\n",
              "    let position = 0;\n",
              "    do {\n",
              "      const length = Math.min(fileData.byteLength - position, MAX_PAYLOAD_SIZE);\n",
              "      const chunk = new Uint8Array(fileData, position, length);\n",
              "      position += length;\n",
              "\n",
              "      const base64 = btoa(String.fromCharCode.apply(null, chunk));\n",
              "      yield {\n",
              "        response: {\n",
              "          action: 'append',\n",
              "          file: file.name,\n",
              "          data: base64,\n",
              "        },\n",
              "      };\n",
              "\n",
              "      let percentDone = fileData.byteLength === 0 ?\n",
              "          100 :\n",
              "          Math.round((position / fileData.byteLength) * 100);\n",
              "      percent.textContent = `${percentDone}% done`;\n",
              "\n",
              "    } while (position < fileData.byteLength);\n",
              "  }\n",
              "\n",
              "  // All done.\n",
              "  yield {\n",
              "    response: {\n",
              "      action: 'complete',\n",
              "    }\n",
              "  };\n",
              "}\n",
              "\n",
              "scope.google = scope.google || {};\n",
              "scope.google.colab = scope.google.colab || {};\n",
              "scope.google.colab._files = {\n",
              "  _uploadFiles,\n",
              "  _uploadFilesContinue,\n",
              "};\n",
              "})(self);\n",
              "</script> "
            ]
          },
          "metadata": {}
        },
        {
          "output_type": "stream",
          "name": "stdout",
          "text": [
            "Saving Cyberattacks Detection.csv to Cyberattacks Detection (5).csv\n",
            "DataFrame loaded successfully!\n",
            "\n",
            "Shape of DataFrame: (100000, 16)\n",
            "\n",
            "Columns: ['Attack ID', 'Source IP', 'Destination IP', 'Source Country', 'Destination Country', 'Protocol', 'Source Port', 'Destination Port', 'Attack Type', 'Payload Size (bytes)', 'Detection Label', 'Confidence Score', 'ML Model', 'Affected System', 'Port Type', 'Timestamp']\n",
            "\n",
            "First 5 rows:\n"
          ]
        },
        {
          "output_type": "stream",
          "name": "stderr",
          "text": [
            "<ipython-input-1-1493761289>:17: DtypeWarning: Columns (15) have mixed types. Specify dtype option on import or set low_memory=False.\n",
            "  df = pd.read_csv(filename)\n"
          ]
        },
        {
          "output_type": "display_data",
          "data": {
            "text/plain": [
              "   Attack ID        Source IP  Destination IP Source Country  \\\n",
              "0        1.0   68.156.227.194  194.91.121.112          India   \n",
              "1        2.0   249.221.229.41   3.207.120.235        Germany   \n",
              "2        4.0   154.55.209.171   132.115.33.82            USA   \n",
              "3        5.0    106.61.204.27    40.61.49.130         France   \n",
              "4        6.0  144.190.250.125    34.68.66.192    South Korea   \n",
              "\n",
              "  Destination Country Protocol  Source Port  Destination Port  \\\n",
              "0                 USA     ICMP      16824.0           53410.0   \n",
              "1                 USA      TCP      23977.0           31745.0   \n",
              "2               China      UDP      36556.0           38880.0   \n",
              "3              France      UDP      14724.0           21669.0   \n",
              "4             Germany      TCP      44693.0            6474.0   \n",
              "\n",
              "                         Attack Type  Payload Size (bytes) Detection Label  \\\n",
              "0                        Brute Force                3936.0        Detected   \n",
              "1   Advanced Persistent Threat (APT)                2870.0        Detected   \n",
              "2  Cross-Site Scripting (XSS) Attack                3833.0    Not Detected   \n",
              "3                     Insider Threat                4301.0    Not Detected   \n",
              "4               Watering Hole Attack                4569.0        Detected   \n",
              "\n",
              "   Confidence Score             ML Model     Affected System Port Type  \\\n",
              "0          0.600507  K-Nearest Neighbors       Cloud Storage     Other   \n",
              "1          0.524150  K-Nearest Neighbors      Network Router     Other   \n",
              "2          0.238944       Neural Network         Workstation     Other   \n",
              "3          0.122334       Neural Network         Workstation     Other   \n",
              "4          0.970895       Neural Network  Application Server     Other   \n",
              "\n",
              "  Timestamp  \n",
              "0       NaN  \n",
              "1       NaN  \n",
              "2       NaN  \n",
              "3       NaN  \n",
              "4       NaN  "
            ],
            "text/html": [
              "\n",
              "  <div id=\"df-6acbc692-e61c-47c7-8fb8-445adc3cea7c\" class=\"colab-df-container\">\n",
              "    <div>\n",
              "<style scoped>\n",
              "    .dataframe tbody tr th:only-of-type {\n",
              "        vertical-align: middle;\n",
              "    }\n",
              "\n",
              "    .dataframe tbody tr th {\n",
              "        vertical-align: top;\n",
              "    }\n",
              "\n",
              "    .dataframe thead th {\n",
              "        text-align: right;\n",
              "    }\n",
              "</style>\n",
              "<table border=\"1\" class=\"dataframe\">\n",
              "  <thead>\n",
              "    <tr style=\"text-align: right;\">\n",
              "      <th></th>\n",
              "      <th>Attack ID</th>\n",
              "      <th>Source IP</th>\n",
              "      <th>Destination IP</th>\n",
              "      <th>Source Country</th>\n",
              "      <th>Destination Country</th>\n",
              "      <th>Protocol</th>\n",
              "      <th>Source Port</th>\n",
              "      <th>Destination Port</th>\n",
              "      <th>Attack Type</th>\n",
              "      <th>Payload Size (bytes)</th>\n",
              "      <th>Detection Label</th>\n",
              "      <th>Confidence Score</th>\n",
              "      <th>ML Model</th>\n",
              "      <th>Affected System</th>\n",
              "      <th>Port Type</th>\n",
              "      <th>Timestamp</th>\n",
              "    </tr>\n",
              "  </thead>\n",
              "  <tbody>\n",
              "    <tr>\n",
              "      <th>0</th>\n",
              "      <td>1.0</td>\n",
              "      <td>68.156.227.194</td>\n",
              "      <td>194.91.121.112</td>\n",
              "      <td>India</td>\n",
              "      <td>USA</td>\n",
              "      <td>ICMP</td>\n",
              "      <td>16824.0</td>\n",
              "      <td>53410.0</td>\n",
              "      <td>Brute Force</td>\n",
              "      <td>3936.0</td>\n",
              "      <td>Detected</td>\n",
              "      <td>0.600507</td>\n",
              "      <td>K-Nearest Neighbors</td>\n",
              "      <td>Cloud Storage</td>\n",
              "      <td>Other</td>\n",
              "      <td>NaN</td>\n",
              "    </tr>\n",
              "    <tr>\n",
              "      <th>1</th>\n",
              "      <td>2.0</td>\n",
              "      <td>249.221.229.41</td>\n",
              "      <td>3.207.120.235</td>\n",
              "      <td>Germany</td>\n",
              "      <td>USA</td>\n",
              "      <td>TCP</td>\n",
              "      <td>23977.0</td>\n",
              "      <td>31745.0</td>\n",
              "      <td>Advanced Persistent Threat (APT)</td>\n",
              "      <td>2870.0</td>\n",
              "      <td>Detected</td>\n",
              "      <td>0.524150</td>\n",
              "      <td>K-Nearest Neighbors</td>\n",
              "      <td>Network Router</td>\n",
              "      <td>Other</td>\n",
              "      <td>NaN</td>\n",
              "    </tr>\n",
              "    <tr>\n",
              "      <th>2</th>\n",
              "      <td>4.0</td>\n",
              "      <td>154.55.209.171</td>\n",
              "      <td>132.115.33.82</td>\n",
              "      <td>USA</td>\n",
              "      <td>China</td>\n",
              "      <td>UDP</td>\n",
              "      <td>36556.0</td>\n",
              "      <td>38880.0</td>\n",
              "      <td>Cross-Site Scripting (XSS) Attack</td>\n",
              "      <td>3833.0</td>\n",
              "      <td>Not Detected</td>\n",
              "      <td>0.238944</td>\n",
              "      <td>Neural Network</td>\n",
              "      <td>Workstation</td>\n",
              "      <td>Other</td>\n",
              "      <td>NaN</td>\n",
              "    </tr>\n",
              "    <tr>\n",
              "      <th>3</th>\n",
              "      <td>5.0</td>\n",
              "      <td>106.61.204.27</td>\n",
              "      <td>40.61.49.130</td>\n",
              "      <td>France</td>\n",
              "      <td>France</td>\n",
              "      <td>UDP</td>\n",
              "      <td>14724.0</td>\n",
              "      <td>21669.0</td>\n",
              "      <td>Insider Threat</td>\n",
              "      <td>4301.0</td>\n",
              "      <td>Not Detected</td>\n",
              "      <td>0.122334</td>\n",
              "      <td>Neural Network</td>\n",
              "      <td>Workstation</td>\n",
              "      <td>Other</td>\n",
              "      <td>NaN</td>\n",
              "    </tr>\n",
              "    <tr>\n",
              "      <th>4</th>\n",
              "      <td>6.0</td>\n",
              "      <td>144.190.250.125</td>\n",
              "      <td>34.68.66.192</td>\n",
              "      <td>South Korea</td>\n",
              "      <td>Germany</td>\n",
              "      <td>TCP</td>\n",
              "      <td>44693.0</td>\n",
              "      <td>6474.0</td>\n",
              "      <td>Watering Hole Attack</td>\n",
              "      <td>4569.0</td>\n",
              "      <td>Detected</td>\n",
              "      <td>0.970895</td>\n",
              "      <td>Neural Network</td>\n",
              "      <td>Application Server</td>\n",
              "      <td>Other</td>\n",
              "      <td>NaN</td>\n",
              "    </tr>\n",
              "  </tbody>\n",
              "</table>\n",
              "</div>\n",
              "    <div class=\"colab-df-buttons\">\n",
              "\n",
              "  <div class=\"colab-df-container\">\n",
              "    <button class=\"colab-df-convert\" onclick=\"convertToInteractive('df-6acbc692-e61c-47c7-8fb8-445adc3cea7c')\"\n",
              "            title=\"Convert this dataframe to an interactive table.\"\n",
              "            style=\"display:none;\">\n",
              "\n",
              "  <svg xmlns=\"http://www.w3.org/2000/svg\" height=\"24px\" viewBox=\"0 -960 960 960\">\n",
              "    <path d=\"M120-120v-720h720v720H120Zm60-500h600v-160H180v160Zm220 220h160v-160H400v160Zm0 220h160v-160H400v160ZM180-400h160v-160H180v160Zm440 0h160v-160H620v160ZM180-180h160v-160H180v160Zm440 0h160v-160H620v160Z\"/>\n",
              "  </svg>\n",
              "    </button>\n",
              "\n",
              "  <style>\n",
              "    .colab-df-container {\n",
              "      display:flex;\n",
              "      gap: 12px;\n",
              "    }\n",
              "\n",
              "    .colab-df-convert {\n",
              "      background-color: #E8F0FE;\n",
              "      border: none;\n",
              "      border-radius: 50%;\n",
              "      cursor: pointer;\n",
              "      display: none;\n",
              "      fill: #1967D2;\n",
              "      height: 32px;\n",
              "      padding: 0 0 0 0;\n",
              "      width: 32px;\n",
              "    }\n",
              "\n",
              "    .colab-df-convert:hover {\n",
              "      background-color: #E2EBFA;\n",
              "      box-shadow: 0px 1px 2px rgba(60, 64, 67, 0.3), 0px 1px 3px 1px rgba(60, 64, 67, 0.15);\n",
              "      fill: #174EA6;\n",
              "    }\n",
              "\n",
              "    .colab-df-buttons div {\n",
              "      margin-bottom: 4px;\n",
              "    }\n",
              "\n",
              "    [theme=dark] .colab-df-convert {\n",
              "      background-color: #3B4455;\n",
              "      fill: #D2E3FC;\n",
              "    }\n",
              "\n",
              "    [theme=dark] .colab-df-convert:hover {\n",
              "      background-color: #434B5C;\n",
              "      box-shadow: 0px 1px 3px 1px rgba(0, 0, 0, 0.15);\n",
              "      filter: drop-shadow(0px 1px 2px rgba(0, 0, 0, 0.3));\n",
              "      fill: #FFFFFF;\n",
              "    }\n",
              "  </style>\n",
              "\n",
              "    <script>\n",
              "      const buttonEl =\n",
              "        document.querySelector('#df-6acbc692-e61c-47c7-8fb8-445adc3cea7c button.colab-df-convert');\n",
              "      buttonEl.style.display =\n",
              "        google.colab.kernel.accessAllowed ? 'block' : 'none';\n",
              "\n",
              "      async function convertToInteractive(key) {\n",
              "        const element = document.querySelector('#df-6acbc692-e61c-47c7-8fb8-445adc3cea7c');\n",
              "        const dataTable =\n",
              "          await google.colab.kernel.invokeFunction('convertToInteractive',\n",
              "                                                    [key], {});\n",
              "        if (!dataTable) return;\n",
              "\n",
              "        const docLinkHtml = 'Like what you see? Visit the ' +\n",
              "          '<a target=\"_blank\" href=https://colab.research.google.com/notebooks/data_table.ipynb>data table notebook</a>'\n",
              "          + ' to learn more about interactive tables.';\n",
              "        element.innerHTML = '';\n",
              "        dataTable['output_type'] = 'display_data';\n",
              "        await google.colab.output.renderOutput(dataTable, element);\n",
              "        const docLink = document.createElement('div');\n",
              "        docLink.innerHTML = docLinkHtml;\n",
              "        element.appendChild(docLink);\n",
              "      }\n",
              "    </script>\n",
              "  </div>\n",
              "\n",
              "\n",
              "    <div id=\"df-8ec76395-a5e7-4081-8da6-5e490aa88c78\">\n",
              "      <button class=\"colab-df-quickchart\" onclick=\"quickchart('df-8ec76395-a5e7-4081-8da6-5e490aa88c78')\"\n",
              "                title=\"Suggest charts\"\n",
              "                style=\"display:none;\">\n",
              "\n",
              "<svg xmlns=\"http://www.w3.org/2000/svg\" height=\"24px\"viewBox=\"0 0 24 24\"\n",
              "     width=\"24px\">\n",
              "    <g>\n",
              "        <path d=\"M19 3H5c-1.1 0-2 .9-2 2v14c0 1.1.9 2 2 2h14c1.1 0 2-.9 2-2V5c0-1.1-.9-2-2-2zM9 17H7v-7h2v7zm4 0h-2V7h2v10zm4 0h-2v-4h2v4z\"/>\n",
              "    </g>\n",
              "</svg>\n",
              "      </button>\n",
              "\n",
              "<style>\n",
              "  .colab-df-quickchart {\n",
              "      --bg-color: #E8F0FE;\n",
              "      --fill-color: #1967D2;\n",
              "      --hover-bg-color: #E2EBFA;\n",
              "      --hover-fill-color: #174EA6;\n",
              "      --disabled-fill-color: #AAA;\n",
              "      --disabled-bg-color: #DDD;\n",
              "  }\n",
              "\n",
              "  [theme=dark] .colab-df-quickchart {\n",
              "      --bg-color: #3B4455;\n",
              "      --fill-color: #D2E3FC;\n",
              "      --hover-bg-color: #434B5C;\n",
              "      --hover-fill-color: #FFFFFF;\n",
              "      --disabled-bg-color: #3B4455;\n",
              "      --disabled-fill-color: #666;\n",
              "  }\n",
              "\n",
              "  .colab-df-quickchart {\n",
              "    background-color: var(--bg-color);\n",
              "    border: none;\n",
              "    border-radius: 50%;\n",
              "    cursor: pointer;\n",
              "    display: none;\n",
              "    fill: var(--fill-color);\n",
              "    height: 32px;\n",
              "    padding: 0;\n",
              "    width: 32px;\n",
              "  }\n",
              "\n",
              "  .colab-df-quickchart:hover {\n",
              "    background-color: var(--hover-bg-color);\n",
              "    box-shadow: 0 1px 2px rgba(60, 64, 67, 0.3), 0 1px 3px 1px rgba(60, 64, 67, 0.15);\n",
              "    fill: var(--button-hover-fill-color);\n",
              "  }\n",
              "\n",
              "  .colab-df-quickchart-complete:disabled,\n",
              "  .colab-df-quickchart-complete:disabled:hover {\n",
              "    background-color: var(--disabled-bg-color);\n",
              "    fill: var(--disabled-fill-color);\n",
              "    box-shadow: none;\n",
              "  }\n",
              "\n",
              "  .colab-df-spinner {\n",
              "    border: 2px solid var(--fill-color);\n",
              "    border-color: transparent;\n",
              "    border-bottom-color: var(--fill-color);\n",
              "    animation:\n",
              "      spin 1s steps(1) infinite;\n",
              "  }\n",
              "\n",
              "  @keyframes spin {\n",
              "    0% {\n",
              "      border-color: transparent;\n",
              "      border-bottom-color: var(--fill-color);\n",
              "      border-left-color: var(--fill-color);\n",
              "    }\n",
              "    20% {\n",
              "      border-color: transparent;\n",
              "      border-left-color: var(--fill-color);\n",
              "      border-top-color: var(--fill-color);\n",
              "    }\n",
              "    30% {\n",
              "      border-color: transparent;\n",
              "      border-left-color: var(--fill-color);\n",
              "      border-top-color: var(--fill-color);\n",
              "      border-right-color: var(--fill-color);\n",
              "    }\n",
              "    40% {\n",
              "      border-color: transparent;\n",
              "      border-right-color: var(--fill-color);\n",
              "      border-top-color: var(--fill-color);\n",
              "    }\n",
              "    60% {\n",
              "      border-color: transparent;\n",
              "      border-right-color: var(--fill-color);\n",
              "    }\n",
              "    80% {\n",
              "      border-color: transparent;\n",
              "      border-right-color: var(--fill-color);\n",
              "      border-bottom-color: var(--fill-color);\n",
              "    }\n",
              "    90% {\n",
              "      border-color: transparent;\n",
              "      border-bottom-color: var(--fill-color);\n",
              "    }\n",
              "  }\n",
              "</style>\n",
              "\n",
              "      <script>\n",
              "        async function quickchart(key) {\n",
              "          const quickchartButtonEl =\n",
              "            document.querySelector('#' + key + ' button');\n",
              "          quickchartButtonEl.disabled = true;  // To prevent multiple clicks.\n",
              "          quickchartButtonEl.classList.add('colab-df-spinner');\n",
              "          try {\n",
              "            const charts = await google.colab.kernel.invokeFunction(\n",
              "                'suggestCharts', [key], {});\n",
              "          } catch (error) {\n",
              "            console.error('Error during call to suggestCharts:', error);\n",
              "          }\n",
              "          quickchartButtonEl.classList.remove('colab-df-spinner');\n",
              "          quickchartButtonEl.classList.add('colab-df-quickchart-complete');\n",
              "        }\n",
              "        (() => {\n",
              "          let quickchartButtonEl =\n",
              "            document.querySelector('#df-8ec76395-a5e7-4081-8da6-5e490aa88c78 button');\n",
              "          quickchartButtonEl.style.display =\n",
              "            google.colab.kernel.accessAllowed ? 'block' : 'none';\n",
              "        })();\n",
              "      </script>\n",
              "    </div>\n",
              "\n",
              "    </div>\n",
              "  </div>\n"
            ],
            "application/vnd.google.colaboratory.intrinsic+json": {
              "type": "dataframe",
              "repr_error": "Out of range float values are not JSON compliant: nan"
            }
          },
          "metadata": {}
        }
      ]
    },
    {
      "cell_type": "code",
      "source": [
        "df.columns.tolist()\n",
        "\n"
      ],
      "metadata": {
        "colab": {
          "base_uri": "https://localhost:8080/"
        },
        "id": "Ac1pivpYVWpn",
        "outputId": "aee386bf-0666-4cee-8949-ba747e30ce6b"
      },
      "execution_count": null,
      "outputs": [
        {
          "output_type": "execute_result",
          "data": {
            "text/plain": [
              "['Attack ID',\n",
              " 'Source IP',\n",
              " 'Destination IP',\n",
              " 'Source Country',\n",
              " 'Destination Country',\n",
              " 'Protocol',\n",
              " 'Source Port',\n",
              " 'Destination Port',\n",
              " 'Attack Type',\n",
              " 'Payload Size (bytes)',\n",
              " 'Detection Label',\n",
              " 'Confidence Score',\n",
              " 'ML Model',\n",
              " 'Affected System',\n",
              " 'Port Type',\n",
              " 'Timestamp']"
            ]
          },
          "metadata": {},
          "execution_count": 2
        }
      ]
    },
    {
      "cell_type": "code",
      "source": [
        "# Filter for brute force attacks\n",
        "brute_force_df = df[df['Attack Type'].str.contains('brute force', case=False, na=False)]\n",
        "\n",
        "# Group by source and destination country and count occurrences\n",
        "country_pairs = (\n",
        "    brute_force_df\n",
        "    .groupby(['Source Country', 'Destination Country'])\n",
        "    .size()\n",
        "    .reset_index(name='Attack Count')\n",
        ")\n",
        "\n",
        "# Find the pair with the highest attack count\n",
        "most_common_pair = country_pairs.loc[country_pairs['Attack Count'].idxmax()]\n",
        "\n",
        "print(\"Most common source-destination country pair for brute force attacks:\")\n",
        "print(f\"Source Country: {most_common_pair['Source Country']}\")\n",
        "print(f\"Destination Country: {most_common_pair['Destination Country']}\")\n",
        "print(f\"Attack Count: {most_common_pair['Attack Count']}\")\n"
      ],
      "metadata": {
        "colab": {
          "base_uri": "https://localhost:8080/"
        },
        "id": "kwetj_kBWfWq",
        "outputId": "1c8619b9-7ccb-4426-f4a3-709319012456"
      },
      "execution_count": null,
      "outputs": [
        {
          "output_type": "stream",
          "name": "stdout",
          "text": [
            "Most common source-destination country pair for brute force attacks:\n",
            "Source Country: Japan\n",
            "Destination Country: France\n",
            "Attack Count: 68\n"
          ]
        }
      ]
    },
    {
      "cell_type": "code",
      "source": [
        "# Define a threshold for high payload size (e.g., 75th percentile)\n",
        "payload_threshold = df['Payload Size (bytes)'].quantile(0.75)\n",
        "\n",
        "# Filter rows where Detection Label is 'Not Detected' (adjust if label differs)\n",
        "filtered_df = df[\n",
        "    (df['Detection Label'].str.lower() == 'not detected') &\n",
        "    (df['Payload Size (bytes)'] > payload_threshold)\n",
        "]\n",
        "\n",
        "# Group by 'Attack Type' and calculate average confidence score\n",
        "avg_confidence = (\n",
        "    filtered_df\n",
        "    .groupby('Attack Type')['Confidence Score']\n",
        "    .mean()\n",
        "    .reset_index()\n",
        "    .sort_values(by='Confidence Score', ascending=False)\n",
        ")\n",
        "\n",
        "# Get the attack type with the highest average confidence\n",
        "top_attack = avg_confidence.iloc[0]\n",
        "\n",
        "print(\"Attack Type with Highest Average Confidence (Not Detected, High Payload):\")\n",
        "print(f\"Attack Type: {top_attack['Attack Type']}\")\n",
        "print(f\"Average Confidence Score: {top_attack['Confidence Score']:.4f}\")\n"
      ],
      "metadata": {
        "colab": {
          "base_uri": "https://localhost:8080/"
        },
        "id": "Oe8FH8fqXEkv",
        "outputId": "5dd78ee2-d5fd-48e5-d4e8-4736d6e07521"
      },
      "execution_count": null,
      "outputs": [
        {
          "output_type": "stream",
          "name": "stdout",
          "text": [
            "Attack Type with Highest Average Confidence (Not Detected, High Payload):\n",
            "Attack Type: File Transfer Protocol (FTP) Attack\n",
            "Average Confidence Score: 0.2534\n"
          ]
        }
      ]
    },
    {
      "cell_type": "code",
      "source": [
        "# Filter for detected attacks\n",
        "detected_df = df[df['Detection Label'].str.lower() == 'detected']\n",
        "\n",
        "# Further filter for APT attacks (case-insensitive contains 'advanced persistent threat' or 'apt')\n",
        "apt_df = detected_df[\n",
        "    detected_df['Attack Type'].str.contains('advanced persistent threat|apt', case=False, na=False)\n",
        "]\n",
        "\n",
        "# Further filter for 'Workstation' in 'Affected System'\n",
        "workstation_apt_df = apt_df[\n",
        "    apt_df['Affected System'].str.contains('workstation', case=False, na=False)\n",
        "]\n",
        "\n",
        "# Group by 'Protocol' and calculate median confidence score\n",
        "median_confidence_by_protocol = (\n",
        "    workstation_apt_df\n",
        "    .groupby('Protocol')['Confidence Score']\n",
        "    .median()\n",
        "    .reset_index()\n",
        "    .sort_values(by='Confidence Score', ascending=True)\n",
        ")\n",
        "\n",
        "# Get the protocol with the lowest median confidence score\n",
        "lowest_median_protocol = median_confidence_by_protocol.iloc[0]\n",
        "\n",
        "print(\"Protocol with the lowest median confidence score for detected APT attacks on Workstations:\")\n",
        "print(f\"Protocol: {lowest_median_protocol['Protocol']}\")\n",
        "print(f\"Median Confidence Score: {lowest_median_protocol['Confidence Score']:.4f}\")\n"
      ],
      "metadata": {
        "colab": {
          "base_uri": "https://localhost:8080/"
        },
        "id": "W-6IA1MWXv20",
        "outputId": "f597ba3b-debd-4826-8889-4c0dd5f39c1f"
      },
      "execution_count": null,
      "outputs": [
        {
          "output_type": "stream",
          "name": "stdout",
          "text": [
            "Protocol with the lowest median confidence score for detected APT attacks on Workstations:\n",
            "Protocol: ICMP\n",
            "Median Confidence Score: 0.7085\n"
          ]
        }
      ]
    },
    {
      "cell_type": "code",
      "source": [
        "# Extract month name safely using .loc to avoid SettingWithCopyWarning\n",
        "filtered_df = filtered_df.copy()  # Make an explicit copy first to be safe\n",
        "filtered_df.loc[:, 'Month'] = filtered_df['Timestamp'].dt.month_name()\n"
      ],
      "metadata": {
        "id": "212KyzMHYmZa"
      },
      "execution_count": null,
      "outputs": []
    },
    {
      "cell_type": "code",
      "source": [
        "import pandas as pd\n",
        "import calendar\n",
        "\n",
        "# Ensure 'Timestamp' is datetime\n",
        "df['Timestamp'] = pd.to_datetime(df['Timestamp'], errors='coerce')\n",
        "\n",
        "# Filter for 2024 only\n",
        "df_2024 = df[df['Timestamp'].dt.year == 2024]\n",
        "\n",
        "# Filter for undetected Zero-Day Exploit attacks on Application Server\n",
        "filtered_df = df_2024[\n",
        "    (df_2024['Detection Label'].str.lower().isin(['not detected', 'undetected'])) &\n",
        "    (df_2024['Attack Type'].str.contains('zero-day exploit', case=False, na=False)) &\n",
        "    (df_2024['Affected System'].str.contains('application server', case=False, na=False))\n",
        "]\n",
        "\n",
        "# Make an explicit copy to avoid SettingWithCopyWarning\n",
        "filtered_df = filtered_df.copy()\n",
        "\n",
        "# Add 'Month' column safely\n",
        "filtered_df.loc[:, 'Month'] = filtered_df['Timestamp'].dt.month_name()\n",
        "\n",
        "# Count attacks by month\n",
        "monthly_counts = (\n",
        "    filtered_df\n",
        "    .groupby('Month')\n",
        "    .size()\n",
        "    .reset_index(name='Attack Count')\n",
        ")\n",
        "\n",
        "# Sort months by calendar order (Jan to Dec)\n",
        "monthly_counts['Month'] = pd.Categorical(monthly_counts['Month'], categories=calendar.month_name[1:], ordered=True)\n",
        "monthly_counts = monthly_counts.sort_values('Month')\n",
        "\n",
        "# Find month with highest attacks\n",
        "top_month = monthly_counts.loc[monthly_counts['Attack Count'].idxmax()]\n",
        "\n",
        "print(f\"Month in 2024 when Application Server systems had the highest number of undetected Zero-Day Exploit attacks:\")\n",
        "print(f\"{top_month['Month']} with {top_month['Attack Count']} attacks\")\n"
      ],
      "metadata": {
        "colab": {
          "base_uri": "https://localhost:8080/"
        },
        "id": "su42xcmxYoVn",
        "outputId": "add9c01a-7c11-4add-dc02-3120048a6498"
      },
      "execution_count": null,
      "outputs": [
        {
          "output_type": "stream",
          "name": "stdout",
          "text": [
            "Month in 2024 when Application Server systems had the highest number of undetected Zero-Day Exploit attacks:\n",
            "September with 5 attacks\n"
          ]
        }
      ]
    },
    {
      "cell_type": "code",
      "source": [
        "import pandas as pd\n",
        "import numpy as np\n",
        "\n",
        "# Filter for undetected Drive-by Download attacks on Workstation systems\n",
        "filtered_df = df[\n",
        "    (df['Detection Label'].str.lower().isin(['not detected', 'undetected'])) &\n",
        "    (df['Attack Type'].str.contains('drive-by download', case=False, na=False)) &\n",
        "    (df['Affected System'].str.contains('workstation', case=False, na=False))\n",
        "].copy()\n",
        "\n",
        "# Define port ranges and labels\n",
        "port_bins = [10000, 20000, 30000, 40000, 50000]\n",
        "port_labels = ['10000-20000', '20000-30000', '30000-40000', '40000-50000']\n",
        "\n",
        "# Filter rows where Destination Port is within 10000 to 50000 (inclusive)\n",
        "filtered_df = filtered_df[\n",
        "    (filtered_df['Destination Port'] >= 10000) & (filtered_df['Destination Port'] <= 50000)\n",
        "]\n",
        "\n",
        "# Create a new column 'Port Range' using pd.cut\n",
        "filtered_df['Port Range'] = pd.cut(\n",
        "    filtered_df['Destination Port'],\n",
        "    bins=port_bins,\n",
        "    labels=port_labels,\n",
        "    right=True,\n",
        "    include_lowest=True\n",
        ")\n",
        "\n",
        "# Group by port range and calculate average confidence score\n",
        "avg_confidence_by_port_range = (\n",
        "    filtered_df\n",
        "    .groupby('Port Range')['Confidence Score']\n",
        "    .mean()\n",
        "    .reset_index()\n",
        "    .sort_values(by='Confidence Score', ascending=False)\n",
        ")\n",
        "\n",
        "# Get the port range with the highest average confidence score\n",
        "top_port_range = avg_confidence_by_port_range.iloc[0]\n",
        "\n",
        "print(\"Destination port range with the highest average confidence score for undetected Drive-by Download attacks on Workstations:\")\n",
        "print(f\"Port Range: {top_port_range['Port Range']}\")\n",
        "print(f\"Average Confidence Score: {top_port_range['Confidence Score']:.4f}\")\n"
      ],
      "metadata": {
        "colab": {
          "base_uri": "https://localhost:8080/"
        },
        "id": "sGmgK71OZcNi",
        "outputId": "6fd2deb1-65af-4e9d-fbeb-912cf5d983d7"
      },
      "execution_count": null,
      "outputs": [
        {
          "output_type": "stream",
          "name": "stdout",
          "text": [
            "Destination port range with the highest average confidence score for undetected Drive-by Download attacks on Workstations:\n",
            "Port Range: 40000-50000\n",
            "Average Confidence Score: 0.2773\n"
          ]
        },
        {
          "output_type": "stream",
          "name": "stderr",
          "text": [
            "<ipython-input-11-3240015609>:32: FutureWarning: The default of observed=False is deprecated and will be changed to True in a future version of pandas. Pass observed=False to retain current behavior or observed=True to adopt the future default and silence this warning.\n",
            "  .groupby('Port Range')['Confidence Score']\n"
          ]
        }
      ]
    },
    {
      "cell_type": "code",
      "source": [
        "# Filter for detected Cross-Site Scripting attacks on Workstations with confidence > 0.8\n",
        "filtered_df = df[\n",
        "    (df['Detection Label'].str.lower() == 'detected') &\n",
        "    (df['Confidence Score'] > 0.8) &\n",
        "    (df['Attack Type'].str.contains('cross-site scripting|xss', case=False, na=False)) &\n",
        "    (df['Affected System'].str.contains('workstation', case=False, na=False))\n",
        "]\n",
        "\n",
        "# Limit to the specified ML models\n",
        "models_of_interest = [\n",
        "    'Random Forest',\n",
        "    'K-Nearest Neighbors',\n",
        "    'Neural Network',\n",
        "    'Logistic Regression'\n",
        "]\n",
        "\n",
        "filtered_df = filtered_df[filtered_df['ML Model'].isin(models_of_interest)]\n",
        "\n",
        "# Count detections per ML model\n",
        "model_counts = (\n",
        "    filtered_df\n",
        "    .groupby('ML Model')\n",
        "    .size()\n",
        "    .reset_index(name='Detection Count')\n",
        "    .sort_values(by='Detection Count', ascending=False)\n",
        ")\n",
        "\n",
        "# Get the model with the highest detection count\n",
        "top_model = model_counts.iloc[0]\n",
        "\n",
        "print(\"Machine learning model that detected the most Cross-Site Scripting (XSS) attacks on Workstations with confidence > 0.8:\")\n",
        "print(f\"Model: {top_model['ML Model']}\")\n",
        "print(f\"Number of detections: {top_model['Detection Count']}\")\n"
      ],
      "metadata": {
        "colab": {
          "base_uri": "https://localhost:8080/"
        },
        "id": "rd9__pcyZxzX",
        "outputId": "ceaa12f0-002a-4556-ff4a-b8c9d598e778"
      },
      "execution_count": null,
      "outputs": [
        {
          "output_type": "stream",
          "name": "stdout",
          "text": [
            "Machine learning model that detected the most Cross-Site Scripting (XSS) attacks on Workstations with confidence > 0.8:\n",
            "Model: K-Nearest Neighbors\n",
            "Number of detections: 26\n"
          ]
        }
      ]
    },
    {
      "cell_type": "code",
      "source": [
        "# Filter for undetected Insider Threat attacks using UDP with Source Port > 50000\n",
        "filtered_df = df[\n",
        "    (df['Detection Label'].str.lower().isin(['not detected', 'undetected'])) &\n",
        "    (df['Attack Type'].str.contains('insider threat', case=False, na=False)) &\n",
        "    (df['Protocol'].str.upper() == 'UDP') &\n",
        "    (df['Source Port'] > 50000)\n",
        "]\n",
        "\n",
        "# Group by destination country and count attacks\n",
        "country_counts = (\n",
        "    filtered_df\n",
        "    .groupby('Destination Country')\n",
        "    .size()\n",
        "    .reset_index(name='Attack Count')\n",
        "    .sort_values(by='Attack Count', ascending=False)\n",
        ")\n",
        "\n",
        "# Get the destination country with the most attacks\n",
        "top_country = country_counts.iloc[0]\n",
        "\n",
        "print(\"Destination country paired with UDP protocol having most undetected Insider Threat attacks with Source Port > 50000:\")\n",
        "print(f\"Destination Country: {top_country['Destination Country']}\")\n",
        "print(f\"Number of attacks: {top_country['Attack Count']}\")\n"
      ],
      "metadata": {
        "colab": {
          "base_uri": "https://localhost:8080/"
        },
        "id": "r9w0J2rTaJYk",
        "outputId": "d35c7fb3-b47a-42f6-ae77-86e0fd9b39b4"
      },
      "execution_count": null,
      "outputs": [
        {
          "output_type": "stream",
          "name": "stdout",
          "text": [
            "Destination country paired with UDP protocol having most undetected Insider Threat attacks with Source Port > 50000:\n",
            "Destination Country: USA\n",
            "Number of attacks: 27\n"
          ]
        }
      ]
    },
    {
      "cell_type": "code",
      "source": [
        "import pandas as pd\n",
        "\n",
        "# Ensure Timestamp is datetime\n",
        "df['Timestamp'] = pd.to_datetime(df['Timestamp'], errors='coerce')\n",
        "\n",
        "# Filter for Q2 2024: April (4), May (5), June (6)\n",
        "df_q2_2024 = df[\n",
        "    (df['Timestamp'].dt.year == 2024) &\n",
        "    (df['Timestamp'].dt.month.isin([4, 5, 6]))\n",
        "]\n",
        "\n",
        "# Filter for detected Ping of Death attacks on Database Server systems\n",
        "filtered_df = df_q2_2024[\n",
        "    (df['Detection Label'].str.lower() == 'detected') &\n",
        "    (df['Attack Type'].str.contains('ping of death', case=False, na=False)) &\n",
        "    (df['Affected System'].str.contains('database server', case=False, na=False))\n",
        "]\n",
        "\n",
        "# Group by ML Model and count attacks\n",
        "model_counts = (\n",
        "    filtered_df\n",
        "    .groupby('ML Model')\n",
        "    .size()\n",
        "    .reset_index(name='Detection Count')\n",
        "    .sort_values(by='Detection Count', ascending=False)\n",
        ")\n",
        "\n",
        "# Get the ML model with highest number of detected attacks\n",
        "top_model = model_counts.iloc[0]\n",
        "\n",
        "print(\"Machine learning model with the highest number of detected 'Ping of Death' attacks targeting Database Server systems in Q2 2024:\")\n",
        "print(f\"Model: {top_model['ML Model']}\")\n",
        "print(f\"Number of detections: {top_model['Detection Count']}\")\n"
      ],
      "metadata": {
        "colab": {
          "base_uri": "https://localhost:8080/"
        },
        "id": "-L4KjgmwaWTl",
        "outputId": "87e305b4-d071-41ec-844d-dda54c32cb1d"
      },
      "execution_count": null,
      "outputs": [
        {
          "output_type": "stream",
          "name": "stdout",
          "text": [
            "Machine learning model with the highest number of detected 'Ping of Death' attacks targeting Database Server systems in Q2 2024:\n",
            "Model: Neural Network\n",
            "Number of detections: 2\n"
          ]
        },
        {
          "output_type": "stream",
          "name": "stderr",
          "text": [
            "<ipython-input-14-772898915>:13: UserWarning: Boolean Series key will be reindexed to match DataFrame index.\n",
            "  filtered_df = df_q2_2024[\n"
          ]
        }
      ]
    },
    {
      "cell_type": "code",
      "source": [
        "# Filter for detected Phishing attacks on Email Server systems\n",
        "filtered_df = df[\n",
        "    (df['Detection Label'].str.lower() == 'detected') &\n",
        "    (df['Attack Type'].str.contains('phishing', case=False, na=False)) &\n",
        "    (df['Affected System'].str.contains('email server', case=False, na=False))\n",
        "]\n",
        "\n",
        "# Group by ML Model and calculate variance of Confidence Score\n",
        "variance_df = (\n",
        "    filtered_df\n",
        "    .groupby('ML Model')['Confidence Score']\n",
        "    .var()\n",
        "    .reset_index()\n",
        "    .rename(columns={'Confidence Score': 'Confidence Variance'})\n",
        "    .sort_values('Confidence Variance')\n",
        ")\n",
        "\n",
        "# Get the model with the lowest variance\n",
        "lowest_variance_model = variance_df.iloc[0]\n",
        "\n",
        "print(\"Machine learning model with the lowest variance in confidence scores for detected Phishing attacks targeting Email Server systems:\")\n",
        "print(f\"Model: {lowest_variance_model['ML Model']}\")\n",
        "print(f\"Confidence Score Variance: {lowest_variance_model['Confidence Variance']:.6f}\")\n"
      ],
      "metadata": {
        "colab": {
          "base_uri": "https://localhost:8080/"
        },
        "id": "snMqDqyIaoHS",
        "outputId": "fa8eb117-6c18-4b91-86d6-410832748375"
      },
      "execution_count": null,
      "outputs": [
        {
          "output_type": "stream",
          "name": "stdout",
          "text": [
            "Machine learning model with the lowest variance in confidence scores for detected Phishing attacks targeting Email Server systems:\n",
            "Model: Random Forest\n",
            "Confidence Score Variance: 0.018521\n"
          ]
        }
      ]
    },
    {
      "cell_type": "code",
      "source": [
        "import pandas as pd\n",
        "\n",
        "# Ensure Timestamp is datetime\n",
        "df['Timestamp'] = pd.to_datetime(df['Timestamp'], errors='coerce')\n",
        "\n",
        "# Filter for 2024 detected Brute Force attacks on Web Server with confidence > 0.9\n",
        "filtered_df = df[\n",
        "    (df['Timestamp'].dt.year == 2024) &\n",
        "    (df['Detection Label'].str.lower() == 'detected') &\n",
        "    (df['Attack Type'].str.contains('brute force', case=False, na=False)) &\n",
        "    (df['Affected System'].str.contains('web server', case=False, na=False)) &\n",
        "    (df['Confidence Score'] > 0.9)\n",
        "]\n",
        "\n",
        "# Group by Source Country and count attacks\n",
        "country_counts = (\n",
        "    filtered_df\n",
        "    .groupby('Source Country')\n",
        "    .size()\n",
        "    .reset_index(name='Attack Count')\n",
        "    .sort_values(by='Attack Count', ascending=False)\n",
        ")\n",
        "\n",
        "# Get source country with the highest count\n",
        "top_country = country_counts.iloc[0]\n",
        "\n",
        "print(\"Source country with the highest number of detected Brute Force attacks on Web Server systems in 2024 (confidence > 0.9):\")\n",
        "print(f\"Source Country: {top_country['Source Country']}\")\n",
        "print(f\"Number of attacks: {top_country['Attack Count']}\")\n"
      ],
      "metadata": {
        "colab": {
          "base_uri": "https://localhost:8080/"
        },
        "id": "4_QjUfqMa3Hs",
        "outputId": "9cf26447-bcec-4c33-f1b3-d026de4c8724"
      },
      "execution_count": null,
      "outputs": [
        {
          "output_type": "stream",
          "name": "stdout",
          "text": [
            "Source country with the highest number of detected Brute Force attacks on Web Server systems in 2024 (confidence > 0.9):\n",
            "Source Country: Brazil\n",
            "Number of attacks: 1\n"
          ]
        }
      ]
    },
    {
      "cell_type": "code",
      "source": [
        "# Filter for detected Brute Force attacks on Web Server systems in 2024 with confidence > 0.9\n",
        "filtered_df = df[\n",
        "    (df['Timestamp'].dt.year == 2024) &\n",
        "    (df['Detection Label'].str.lower() == 'detected') &\n",
        "    (df['Attack Type'].str.contains('brute force', case=False, na=False)) &\n",
        "    (df['Affected System'].str.contains('web server', case=False, na=False)) &\n",
        "    (df['Confidence Score'] > 0.9) &\n",
        "    (df['Source Country'].isin(['China', 'Japan', 'France', 'USA']))\n",
        "]\n",
        "\n",
        "# Group by Source Country and count attacks\n",
        "country_counts = (\n",
        "    filtered_df\n",
        "    .groupby('Source Country')\n",
        "    .size()\n",
        "    .reset_index(name='Attack Count')\n",
        "    .sort_values(by='Attack Count', ascending=False)\n",
        ")\n",
        "\n",
        "# Get the top source country\n",
        "top_country = country_counts.iloc[0]\n",
        "\n",
        "print(\"In 2024, source country with the highest number of detected Brute Force attacks on Web Servers with confidence > 0.9:\")\n",
        "print(f\"Country: {top_country['Source Country']}\")\n",
        "print(f\"Number of attacks: {top_country['Attack Count']}\")\n"
      ],
      "metadata": {
        "colab": {
          "base_uri": "https://localhost:8080/"
        },
        "id": "Fm_gQCCcbQM5",
        "outputId": "8f551fb7-2a8b-4692-a2c4-ef2eb21c9c39"
      },
      "execution_count": null,
      "outputs": [
        {
          "output_type": "stream",
          "name": "stdout",
          "text": [
            "In 2024, source country with the highest number of detected Brute Force attacks on Web Servers with confidence > 0.9:\n",
            "Country: China\n",
            "Number of attacks: 1\n"
          ]
        }
      ]
    },
    {
      "cell_type": "code",
      "source": [
        "# Filter for not detected SQL Injection attacks on Database Server systems\n",
        "filtered_df = df[\n",
        "    (df['Detection Label'].str.lower().isin(['not detected', 'undetected'])) &\n",
        "    (df['Attack Type'].str.contains('sql injection', case=False, na=False)) &\n",
        "    (df['Affected System'].str.contains('database server', case=False, na=False))\n",
        "]\n",
        "\n",
        "# Group by Protocol and calculate average Payload Size\n",
        "avg_payload = (\n",
        "    filtered_df\n",
        "    .groupby('Protocol')['Payload Size (bytes)']\n",
        "    .mean()\n",
        "    .reset_index()\n",
        "    .sort_values(by='Payload Size (bytes)', ascending=False)\n",
        ")\n",
        "\n",
        "# Get the protocol with highest average payload size\n",
        "top_protocol = avg_payload.iloc[0]\n",
        "\n",
        "print(\"Protocol with the highest average payload size for not detected SQL Injection attacks on Database Server systems:\")\n",
        "print(f\"Protocol: {top_protocol['Protocol']}\")\n",
        "print(f\"Average Payload Size (bytes): {top_protocol['Payload Size (bytes)']:.2f}\")\n"
      ],
      "metadata": {
        "colab": {
          "base_uri": "https://localhost:8080/"
        },
        "id": "uwPz6mdrbe7q",
        "outputId": "bc18fc4a-f3cb-4fa0-e7fc-1f4f599117f4"
      },
      "execution_count": null,
      "outputs": [
        {
          "output_type": "stream",
          "name": "stdout",
          "text": [
            "Protocol with the highest average payload size for not detected SQL Injection attacks on Database Server systems:\n",
            "Protocol: ICMP\n",
            "Average Payload Size (bytes): 2638.99\n"
          ]
        }
      ]
    },
    {
      "cell_type": "code",
      "source": [
        "import pandas as pd\n",
        "import numpy as np\n",
        "\n",
        "# Ensure Timestamp is datetime\n",
        "df['Timestamp'] = pd.to_datetime(df['Timestamp'], errors='coerce')\n",
        "\n",
        "# Filter for detected DDoS attacks on Firewall systems in 2024\n",
        "filtered_df = df[\n",
        "    (df['Timestamp'].dt.year == 2024) &\n",
        "    (df['Detection Label'].str.lower() == 'detected') &\n",
        "    (df['Attack Type'].str.contains('distributed denial of service|ddos', case=False, na=False)) &\n",
        "    (df['Affected System'].str.contains('firewall', case=False, na=False))\n",
        "].copy()\n",
        "\n",
        "# Calculate median payload size across these filtered attacks\n",
        "median_payload = filtered_df['Payload Size (bytes)'].median()\n",
        "\n",
        "# Keep only attacks with payload size above median\n",
        "filtered_df = filtered_df[filtered_df['Payload Size (bytes)'] > median_payload]\n",
        "\n",
        "# Define a function to map month to quarter label\n",
        "def month_to_quarter(month):\n",
        "    if month in [1, 2, 3]:\n",
        "        return 'Q1 (Jan-Mar)'\n",
        "    elif month in [4, 5, 6]:\n",
        "        return 'Q2 (Apr-Jun)'\n",
        "    elif month in [7, 8, 9]:\n",
        "        return 'Q3 (Jul-Sep)'\n",
        "    else:\n",
        "        return 'Q4 (Oct-Dec)'\n",
        "\n",
        "# Create a 'Quarter' column\n",
        "filtered_df['Quarter'] = filtered_df['Timestamp'].dt.month.apply(month_to_quarter)\n",
        "\n",
        "# Group by Quarter and count attacks\n",
        "quarter_counts = (\n",
        "    filtered_df\n",
        "    .groupby('Quarter')\n",
        "    .size()\n",
        "    .reset_index(name='Attack Count')\n",
        "    .sort_values(by='Attack Count', ascending=False)\n",
        ")\n",
        "\n",
        "# Get the quarter with the highest number of attacks\n",
        "top_quarter = quarter_counts.iloc[0]\n",
        "\n",
        "print(\"Quarter in 2024 when Firewall systems faced the most detected DDoS attacks with payload size above median:\")\n",
        "print(f\"{top_quarter['Quarter']} with {top_quarter['Attack Count']} attacks\")\n"
      ],
      "metadata": {
        "colab": {
          "base_uri": "https://localhost:8080/"
        },
        "id": "R2_jkxp3bzbl",
        "outputId": "dc04016e-efaf-4489-ef2e-10f6be8b0508"
      },
      "execution_count": null,
      "outputs": [
        {
          "output_type": "stream",
          "name": "stdout",
          "text": [
            "Quarter in 2024 when Firewall systems faced the most detected DDoS attacks with payload size above median:\n",
            "Q2 (Apr-Jun) with 4 attacks\n"
          ]
        }
      ]
    },
    {
      "cell_type": "code",
      "source": [
        "# Filter for detected FTP Attack instances in 2024 with confidence > 0.7\n",
        "filtered_df = df[\n",
        "    (df['Timestamp'].dt.year == 2024) &\n",
        "    (df['Detection Label'].str.lower() == 'detected') &\n",
        "    (df['Attack Type'].str.contains('file transfer protocol|ftp attack', case=False, na=False)) &\n",
        "    (df['Confidence Score'] > 0.7)\n",
        "]\n",
        "\n",
        "# Group by Source Country and count\n",
        "country_counts = (\n",
        "    filtered_df\n",
        "    .groupby('Source Country')\n",
        "    .size()\n",
        "    .reset_index(name='Attack Count')\n",
        "    .sort_values(by='Attack Count', ascending=False)\n",
        ")\n",
        "\n",
        "# Get the source country with highest count\n",
        "top_country = country_counts.iloc[0]\n",
        "\n",
        "print(\"Source country with the highest number of detected FTP Attack instances with confidence > 0.7 in 2024:\")\n",
        "print(f\"Country: {top_country['Source Country']}\")\n",
        "print(f\"Number of attacks: {top_country['Attack Count']}\")\n"
      ],
      "metadata": {
        "colab": {
          "base_uri": "https://localhost:8080/"
        },
        "id": "jWRUbS6vcAqW",
        "outputId": "89694fa3-c396-4fda-ca4a-5f83d740c1af"
      },
      "execution_count": null,
      "outputs": [
        {
          "output_type": "stream",
          "name": "stdout",
          "text": [
            "Source country with the highest number of detected FTP Attack instances with confidence > 0.7 in 2024:\n",
            "Country: Brazil\n",
            "Number of attacks: 25\n"
          ]
        }
      ]
    },
    {
      "cell_type": "code",
      "source": [
        "# Step 1: Filter dataset for Email Server attacks in 2024 and the specified attack types\n",
        "target_attacks = ['Credential Stuffing', 'SQL Injection', 'Brute Force', 'Phishing']\n",
        "\n",
        "filtered_df = df[\n",
        "    (df['Timestamp'].dt.year == 2024) &\n",
        "    (df['Affected System'].str.contains('email server', case=False, na=False)) &\n",
        "    (df['Attack Type'].str.lower().isin([a.lower() for a in target_attacks]))\n",
        "].copy()\n",
        "\n",
        "# Step 2: Compute the 25th percentile of payload sizes across the filtered data\n",
        "q1_payload = filtered_df['Payload Size (bytes)'].quantile(0.25)\n",
        "\n",
        "# Step 3: Create a new column for identifying payloads below Q1\n",
        "filtered_df['Below_Q1'] = filtered_df['Payload Size (bytes)'] < q1_payload\n",
        "\n",
        "# Step 4: Compute proportion of attacks below Q1 for each attack type\n",
        "proportion_df = (\n",
        "    filtered_df\n",
        "    .groupby('Attack Type')\n",
        "    .agg(\n",
        "        Total_Attacks=('Below_Q1', 'count'),\n",
        "        Below_Q1_Count=('Below_Q1', 'sum')\n",
        "    )\n",
        "    .assign(Proportion=lambda x: x['Below_Q1_Count'] / x['Total_Attacks'])\n",
        "    .sort_values('Proportion', ascending=False)\n",
        "    .reset_index()\n",
        ")\n",
        "\n",
        "# Step 5: Get attack type with highest proportion\n",
        "top_attack = proportion_df.iloc[0]\n",
        "\n",
        "print(\"Attack type targeting Email Server systems in 2024 with the highest proportion of payloads below 25th percentile:\")\n",
        "print(f\"Attack Type: {top_attack['Attack Type']}\")\n",
        "print(f\"Proportion Below Q1: {top_attack['Proportion']:.2%}\")\n"
      ],
      "metadata": {
        "colab": {
          "base_uri": "https://localhost:8080/"
        },
        "id": "yB6iWbMPcvoH",
        "outputId": "32ddc9a8-b34f-4bec-8d0a-a887f4bc40ea"
      },
      "execution_count": null,
      "outputs": [
        {
          "output_type": "stream",
          "name": "stdout",
          "text": [
            "Attack type targeting Email Server systems in 2024 with the highest proportion of payloads below 25th percentile:\n",
            "Attack Type: Brute Force\n",
            "Proportion Below Q1: 31.34%\n"
          ]
        }
      ]
    },
    {
      "cell_type": "code",
      "source": [
        "# Step 1: Filter for undetected attacks on IoT Device systems in 2024\n",
        "filtered_df = df[\n",
        "    (df['Timestamp'].dt.year == 2024) &\n",
        "    (df['Detection Label'].str.lower().isin(['not detected', 'undetected'])) &\n",
        "    (df['Affected System'].str.contains('iot device', case=False, na=False))\n",
        "].copy()\n",
        "\n",
        "# Step 2: Group by Attack Type and calculate median confidence score\n",
        "median_confidence = (\n",
        "    filtered_df\n",
        "    .groupby('Attack Type')['Confidence Score']\n",
        "    .median()\n",
        "    .reset_index()\n",
        "    .sort_values(by='Confidence Score', ascending=False)\n",
        ")\n",
        "\n",
        "# Step 3: Get the attack type with the highest median confidence\n",
        "top_attack = median_confidence.iloc[0]\n",
        "\n",
        "print(\"Attack type targeting IoT Device systems with highest median confidence score for undetected attacks in 2024:\")\n",
        "print(f\"Attack Type: {top_attack['Attack Type']}\")\n",
        "print(f\"Median Confidence Score: {top_attack['Confidence Score']:.2f}\")\n"
      ],
      "metadata": {
        "colab": {
          "base_uri": "https://localhost:8080/"
        },
        "id": "B81yPXg0c6-0",
        "outputId": "9293c7fb-9373-4662-d651-2c5d64a8952e"
      },
      "execution_count": null,
      "outputs": [
        {
          "output_type": "stream",
          "name": "stdout",
          "text": [
            "Attack type targeting IoT Device systems with highest median confidence score for undetected attacks in 2024:\n",
            "Attack Type: Ping of Death\n",
            "Median Confidence Score: 0.33\n"
          ]
        }
      ]
    },
    {
      "cell_type": "code",
      "source": [
        "# Step 1: Filter for detected attacks targeting Network Router systems\n",
        "filtered_df = df[\n",
        "    (df['Detection Label'].str.lower() == 'detected') &\n",
        "    (df['Affected System'].str.contains('network router', case=False, na=False))\n",
        "].copy()\n",
        "\n",
        "# Step 2: Group by Attack Type and calculate standard deviation of payload sizes\n",
        "std_payloads = (\n",
        "    filtered_df\n",
        "    .groupby('Attack Type')['Payload Size (bytes)']\n",
        "    .std()\n",
        "    .reset_index()\n",
        "    .sort_values(by='Payload Size (bytes)', ascending=False)\n",
        ")\n",
        "\n",
        "# Step 3: Get the attack type with the highest standard deviation\n",
        "top_attack = std_payloads.iloc[0]\n",
        "\n",
        "print(\"Attack type with highest standard deviation in payload sizes for detected attacks on Network Router systems:\")\n",
        "print(f\"Attack Type: {top_attack['Attack Type']}\")\n",
        "print(f\"Standard Deviation of Payload Size: {top_attack['Payload Size (bytes)']:.2f}\")\n"
      ],
      "metadata": {
        "colab": {
          "base_uri": "https://localhost:8080/"
        },
        "id": "reszxUJCdT8f",
        "outputId": "d5d25efa-7415-477d-c53f-d2a9df48ba08"
      },
      "execution_count": null,
      "outputs": [
        {
          "output_type": "stream",
          "name": "stdout",
          "text": [
            "Attack type with highest standard deviation in payload sizes for detected attacks on Network Router systems:\n",
            "Attack Type: Phishing\n",
            "Standard Deviation of Payload Size: 1518.37\n"
          ]
        }
      ]
    },
    {
      "cell_type": "code",
      "source": [
        "# Step 1: Filter for undetected attacks targeting Cloud Storage with confidence < 0.3\n",
        "filtered_df = df[\n",
        "    (df['Detection Label'].str.lower().isin(['not detected', 'undetected'])) &\n",
        "    (df['Affected System'].str.contains('cloud storage', case=False, na=False)) &\n",
        "    (df['Confidence Score'] < 0.3)\n",
        "].copy()\n",
        "\n",
        "# Step 2: Group by Attack Type and calculate average payload size\n",
        "avg_payloads = (\n",
        "    filtered_df\n",
        "    .groupby('Attack Type')['Payload Size (bytes)']\n",
        "    .mean()\n",
        "    .reset_index()\n",
        "    .sort_values(by='Payload Size (bytes)', ascending=False)\n",
        ")\n",
        "\n",
        "# Step 3: Get the attack type with the highest average payload size\n",
        "top_attack = avg_payloads.iloc[0]\n",
        "\n",
        "print(\"Attack type with highest average payload size for undetected attacks targeting Cloud Storage (confidence < 0.3):\")\n",
        "print(f\"Attack Type: {top_attack['Attack Type']}\")\n",
        "print(f\"Average Payload Size: {top_attack['Payload Size (bytes)']:.2f} bytes\")\n"
      ],
      "metadata": {
        "colab": {
          "base_uri": "https://localhost:8080/"
        },
        "id": "kVx9cvFGdqSu",
        "outputId": "cbd84bb9-8176-4930-ce46-7f8da9730eb5"
      },
      "execution_count": null,
      "outputs": [
        {
          "output_type": "stream",
          "name": "stdout",
          "text": [
            "Attack type with highest average payload size for undetected attacks targeting Cloud Storage (confidence < 0.3):\n",
            "Attack Type: Ping of Death\n",
            "Average Payload Size: 2696.43 bytes\n"
          ]
        }
      ]
    },
    {
      "cell_type": "code",
      "source": [
        "# Step 1: Filter data based on conditions\n",
        "filtered_df = df[\n",
        "    (df['Attack Type'].str.contains('cryptojacking', case=False, na=False)) &\n",
        "    (df['Source Country'].str.lower() == 'india') &\n",
        "    (df['Source Port'] < 20000)\n",
        "].copy()\n",
        "\n",
        "# Step 2: Add a binary column for detection status\n",
        "filtered_df['Detected'] = filtered_df['Detection Label'].str.lower() == 'detected'\n",
        "\n",
        "# Step 3: Group by Destination Country and calculate detection rate\n",
        "detection_rates = (\n",
        "    filtered_df\n",
        "    .groupby('Destination Country')['Detected']\n",
        "    .agg(['sum', 'count'])\n",
        "    .rename(columns={'sum': 'Detected Count', 'count': 'Total'})\n",
        "    .assign(Detection_Rate=lambda x: x['Detected Count'] / x['Total'])\n",
        "    .sort_values(by='Detection_Rate', ascending=False)\n",
        "    .reset_index()\n",
        ")\n",
        "\n",
        "# Step 4: Get the country with the highest detection rate\n",
        "top_country = detection_rates.iloc[0]\n",
        "\n",
        "print(\"Destination country with the highest detection rate for Cryptojacking attacks from India with source ports < 20000:\")\n",
        "print(f\"Country: {top_country['Destination Country']}\")\n",
        "print(f\"Detection Rate: {top_country['Detection_Rate']:.2%}\")\n",
        "print(f\"Detected Attacks: {top_country['Detected Count']} / {top_country['Total']}\")\n"
      ],
      "metadata": {
        "colab": {
          "base_uri": "https://localhost:8080/"
        },
        "id": "NFsHzQn2eCCu",
        "outputId": "6f228a8c-7a2e-4dbf-e98a-940b244ff6e7"
      },
      "execution_count": null,
      "outputs": [
        {
          "output_type": "stream",
          "name": "stdout",
          "text": [
            "Destination country with the highest detection rate for Cryptojacking attacks from India with source ports < 20000:\n",
            "Country: Brazil\n",
            "Detection Rate: 77.78%\n",
            "Detected Attacks: 14 / 18\n"
          ]
        }
      ]
    },
    {
      "cell_type": "code",
      "source": [
        "# List of ML models to check\n",
        "ml_models = ['K-Nearest Neighbors', 'Support Vector Machine', 'Neural Network', 'Logistic Regression']\n",
        "\n",
        "# Filter for SNMP attacks on Cloud Storage systems\n",
        "filtered_df = df[\n",
        "    (df['Attack Type'].str.contains('simple network management protocol|snmp attack', case=False, na=False)) &\n",
        "    (df['Affected System'].str.contains('cloud storage', case=False, na=False)) &\n",
        "    (df['ML Model'].isin(ml_models))\n",
        "].copy()\n",
        "\n",
        "# Group by ML Model to calculate detection rate\n",
        "detection_rates = (\n",
        "    filtered_df\n",
        "    .groupby('ML Model')\n",
        "    .agg(\n",
        "        total_attacks=('Detection Label', 'count'),\n",
        "        detected_attacks=('Detection Label', lambda x: (x.str.lower() == 'detected').sum())\n",
        "    )\n",
        "    .assign(detection_rate=lambda x: x['detected_attacks'] / x['total_attacks'])\n",
        "    .reset_index()\n",
        "    .sort_values(by='detection_rate', ascending=False)\n",
        ")\n",
        "\n",
        "# Get model with highest detection rate\n",
        "top_model = detection_rates.iloc[0]\n",
        "\n",
        "print(\"Machine learning model with the highest detection rate for SNMP attacks on Cloud Storage systems:\")\n",
        "print(f\"Model: {top_model['ML Model']}\")\n",
        "print(f\"Detection Rate: {top_model['detection_rate']:.2%}\")\n"
      ],
      "metadata": {
        "colab": {
          "base_uri": "https://localhost:8080/"
        },
        "id": "N9zBQygpefXV",
        "outputId": "b578e89a-33de-4f84-ba2a-cc7ea5e30226"
      },
      "execution_count": null,
      "outputs": [
        {
          "output_type": "stream",
          "name": "stdout",
          "text": [
            "Machine learning model with the highest detection rate for SNMP attacks on Cloud Storage systems:\n",
            "Model: Logistic Regression\n",
            "Detection Rate: 60.00%\n"
          ]
        }
      ]
    },
    {
      "cell_type": "code",
      "source": [
        "# Step 1: Filter SNMP attacks on Cloud Storage systems\n",
        "snmp_df = df[\n",
        "    (df['Attack Type'].str.contains('simple network management protocol|snmp attack', case=False, na=False)) &\n",
        "    (df['Affected System'].str.contains('cloud storage', case=False, na=False))\n",
        "].copy()\n",
        "\n",
        "# Step 2: Calculate detection rate by ML model\n",
        "# Group by ML Model and Detection Label counts\n",
        "model_detection_counts = (\n",
        "    snmp_df\n",
        "    .groupby(['ML Model', 'Detection Label'])\n",
        "    .size()\n",
        "    .unstack(fill_value=0)\n",
        ")\n",
        "\n",
        "# Ensure consistent column names (e.g., lowercase)\n",
        "model_detection_counts.columns = [col.lower() for col in model_detection_counts.columns]\n",
        "\n",
        "# Calculate detection rate per model\n",
        "# 'detected' count / total attacks by that model\n",
        "model_detection_counts['total'] = model_detection_counts.sum(axis=1)\n",
        "model_detection_counts['detection_rate'] = model_detection_counts.get('detected', 0) / model_detection_counts['total']\n",
        "\n",
        "# Find the model with the highest detection rate\n",
        "top_model = model_detection_counts['detection_rate'].idxmax()\n",
        "top_rate = model_detection_counts.loc[top_model, 'detection_rate']\n",
        "\n",
        "print(\"Machine learning model with the highest detection rate for SNMP attacks on Cloud Storage systems:\")\n",
        "print(f\"Model: {top_model}\")\n",
        "print(f\"Detection Rate: {top_rate:.2%}\")\n"
      ],
      "metadata": {
        "colab": {
          "base_uri": "https://localhost:8080/"
        },
        "id": "ZjRfVCdZes5l",
        "outputId": "6c1cad08-64ea-4edb-bbe4-e2dcec4cf4dc"
      },
      "execution_count": null,
      "outputs": [
        {
          "output_type": "stream",
          "name": "stdout",
          "text": [
            "Machine learning model with the highest detection rate for SNMP attacks on Cloud Storage systems:\n",
            "Model: Logistic Regression\n",
            "Detection Rate: 60.00%\n"
          ]
        }
      ]
    },
    {
      "cell_type": "code",
      "source": [
        "# Step 1: Filter for detected MITM attacks on Network Router systems using TCP protocol\n",
        "filtered_df = df[\n",
        "    (df['Detection Label'].str.lower() == 'detected') &\n",
        "    (df['Attack Type'].str.contains('man-in-the-middle|mitm', case=False, na=False)) &\n",
        "    (df['Affected System'].str.contains('network router', case=False, na=False)) &\n",
        "    (df['Protocol'].str.upper() == 'TCP')\n",
        "].copy()\n",
        "\n",
        "# Step 2: Group by Source Country and count attacks\n",
        "country_counts = (\n",
        "    filtered_df\n",
        "    .groupby('Source Country')\n",
        "    .size()\n",
        "    .reset_index(name='Attack Count')\n",
        "    .sort_values(by='Attack Count', ascending=False)\n",
        ")\n",
        "\n",
        "# Step 3: Get source country with the highest count\n",
        "top_country = country_counts.iloc[0]\n",
        "\n",
        "print(\"Source country paired with TCP protocol that had the most detected MITM attacks on Network Router systems:\")\n",
        "print(f\"Country: {top_country['Source Country']}\")\n",
        "print(f\"Number of Attacks: {top_country['Attack Count']}\")\n"
      ],
      "metadata": {
        "colab": {
          "base_uri": "https://localhost:8080/"
        },
        "id": "Z96eBKDffBI0",
        "outputId": "87a72b0a-26b5-4ed4-9ad8-e4683fae5133"
      },
      "execution_count": null,
      "outputs": [
        {
          "output_type": "stream",
          "name": "stdout",
          "text": [
            "Source country paired with TCP protocol that had the most detected MITM attacks on Network Router systems:\n",
            "Country: USA\n",
            "Number of Attacks: 13\n"
          ]
        }
      ]
    },
    {
      "cell_type": "code",
      "source": [
        "# List of countries to check\n",
        "countries_of_interest = ['Russia', 'South Korea', 'Germany', 'UK']\n",
        "\n",
        "# Filter the dataframe for detected MITM attacks on Network Router with TCP protocol and countries of interest\n",
        "filtered_df = df[\n",
        "    (df['Detection Label'].str.lower() == 'detected') &\n",
        "    (df['Attack Type'].str.contains('man-in-the-middle|mitm', case=False, na=False)) &\n",
        "    (df['Affected System'].str.contains('network router', case=False, na=False)) &\n",
        "    (df['Protocol'].str.upper() == 'TCP') &\n",
        "    (df['Source Country'].isin(countries_of_interest))\n",
        "].copy()\n",
        "\n",
        "# Count attacks per source country\n",
        "country_counts = (\n",
        "    filtered_df\n",
        "    .groupby('Source Country')\n",
        "    .size()\n",
        "    .reset_index(name='Attack Count')\n",
        "    .sort_values(by='Attack Count', ascending=False)\n",
        ")\n",
        "\n",
        "print(\"Detected MITM attacks on Network Router systems by source country (TCP protocol):\")\n",
        "print(country_counts)\n",
        "\n",
        "# Get top country\n",
        "if not country_counts.empty:\n",
        "    top_country = country_counts.iloc[0]\n",
        "    print(f\"\\nTop source country: {top_country['Source Country']} with {top_country['Attack Count']} attacks\")\n",
        "else:\n",
        "    print(\"No matching data found for the specified criteria.\")\n"
      ],
      "metadata": {
        "colab": {
          "base_uri": "https://localhost:8080/"
        },
        "id": "1WkpFX-HfOa6",
        "outputId": "0ec096e4-b0a7-4970-85e1-43d0cacc7f09"
      },
      "execution_count": null,
      "outputs": [
        {
          "output_type": "stream",
          "name": "stdout",
          "text": [
            "Detected MITM attacks on Network Router systems by source country (TCP protocol):\n",
            "  Source Country  Attack Count\n",
            "0        Germany            13\n",
            "1         Russia            12\n",
            "2    South Korea            11\n",
            "3             UK            10\n",
            "\n",
            "Top source country: Germany with 13 attacks\n"
          ]
        }
      ]
    },
    {
      "cell_type": "code",
      "source": [
        "# Step 1: Filter Email Spam attacks targeting Firewall systems with payload > 4000 bytes\n",
        "email_spam_df = df[\n",
        "    (df['Attack Type'].str.contains('email spam', case=False, na=False)) &\n",
        "    (df['Affected System'].str.contains('firewall', case=False, na=False)) &\n",
        "    (df['Payload Size (bytes)'] > 4000)\n",
        "].copy()\n",
        "\n",
        "# Step 2: Group by Source Country and Detection Label counts\n",
        "country_detection_counts = (\n",
        "    email_spam_df\n",
        "    .groupby(['Source Country', 'Detection Label'])\n",
        "    .size()\n",
        "    .unstack(fill_value=0)\n",
        ")\n",
        "\n",
        "# Normalize column names to lowercase for consistency\n",
        "country_detection_counts.columns = [col.lower() for col in country_detection_counts.columns]\n",
        "\n",
        "# Step 3: Calculate detection rate per source country\n",
        "country_detection_counts['total'] = country_detection_counts.sum(axis=1)\n",
        "country_detection_counts['detection_rate'] = country_detection_counts.get('detected', 0) / country_detection_counts['total']\n",
        "\n",
        "# Step 4: Find the source country with highest detection rate\n",
        "top_country = country_detection_counts['detection_rate'].idxmax()\n",
        "top_rate = country_detection_counts.loc[top_country, 'detection_rate']\n",
        "\n",
        "print(\"Source country with highest detection rate for Email Spam attacks targeting Firewall systems (payload > 4000 bytes):\")\n",
        "print(f\"Country: {top_country}\")\n",
        "print(f\"Detection Rate: {top_rate:.2%}\")\n"
      ],
      "metadata": {
        "colab": {
          "base_uri": "https://localhost:8080/"
        },
        "id": "uo1mM7YyfoCA",
        "outputId": "dfe73723-64e0-40c7-b3ad-d9fcd7193ea2"
      },
      "execution_count": null,
      "outputs": [
        {
          "output_type": "stream",
          "name": "stdout",
          "text": [
            "Source country with highest detection rate for Email Spam attacks targeting Firewall systems (payload > 4000 bytes):\n",
            "Country: Brazil\n",
            "Detection Rate: 88.89%\n"
          ]
        }
      ]
    },
    {
      "cell_type": "code",
      "source": [
        "# Define destination port ranges as tuples (start, end)\n",
        "port_ranges = {\n",
        "    '0-10000': (0, 10000),\n",
        "    '10000-20000': (10000, 20000),\n",
        "    '20000-30000': (20000, 30000),\n",
        "    '40000-50000': (40000, 50000),\n",
        "}\n",
        "\n",
        "# Step 1: Filter for detected Watering Hole attacks from Japan\n",
        "filtered_df = df[\n",
        "    (df['Detection Label'].str.lower() == 'detected') &\n",
        "    (df['Attack Type'].str.contains('watering hole', case=False, na=False)) &\n",
        "    (df['Source Country'].str.lower() == 'japan')\n",
        "].copy()\n",
        "\n",
        "# Step 2: Function to categorize destination ports into ranges\n",
        "def categorize_port(port):\n",
        "    for label, (start, end) in port_ranges.items():\n",
        "        if start <= port < end:\n",
        "            return label\n",
        "    return 'Other'\n",
        "\n",
        "# Apply categorization (make sure Destination Port is numeric)\n",
        "filtered_df['Destination Port'] = pd.to_numeric(filtered_df['Destination Port'], errors='coerce')\n",
        "filtered_df = filtered_df.dropna(subset=['Destination Port'])\n",
        "\n",
        "filtered_df['Port Range'] = filtered_df['Destination Port'].apply(categorize_port)\n",
        "\n",
        "# Step 3: Count frequencies of each port range\n",
        "port_range_counts = (\n",
        "    filtered_df\n",
        "    .groupby('Port Range')\n",
        "    .size()\n",
        "    .reset_index(name='Count')\n",
        "    .sort_values(by='Count', ascending=False)\n",
        ")\n",
        "\n",
        "print(\"Detected Watering Hole attacks from Japan by destination port range:\")\n",
        "print(port_range_counts)\n",
        "\n",
        "# Step 4: Identify the port range with the highest count (ignore 'Other' if present)\n",
        "top_port_range = port_range_counts[port_range_counts['Port Range'] != 'Other'].iloc[0]\n",
        "\n",
        "print(f\"\\nPort range with highest frequency: {top_port_range['Port Range']} ({top_port_range['Count']} attacks)\")\n"
      ],
      "metadata": {
        "colab": {
          "base_uri": "https://localhost:8080/"
        },
        "id": "t1yhsWE4gG4F",
        "outputId": "432d3c20-da18-4871-899e-644658be9066"
      },
      "execution_count": null,
      "outputs": [
        {
          "output_type": "stream",
          "name": "stdout",
          "text": [
            "Detected Watering Hole attacks from Japan by destination port range:\n",
            "    Port Range  Count\n",
            "4        Other     98\n",
            "0      0-10000     53\n",
            "3  40000-50000     41\n",
            "1  10000-20000     32\n",
            "2  20000-30000     28\n",
            "\n",
            "Port range with highest frequency: 0-10000 (53 attacks)\n"
          ]
        }
      ]
    },
    {
      "cell_type": "code",
      "source": [
        "# Define port ranges as tuples: (start, end)\n",
        "port_ranges = {\n",
        "    '0-9999': (0, 9999),\n",
        "    '10000-19999': (10000, 19999),\n",
        "    '20000-29999': (20000, 29999),\n",
        "    '30000-39999': (30000, 39999),\n",
        "    '40000-49999': (40000, 49999),\n",
        "    '50000-65535': (50000, 65535)\n",
        "}\n",
        "\n",
        "# Filter for detected Watering Hole Attack from Japan\n",
        "filtered_df = df[\n",
        "    (df['Detection Label'].str.lower() == 'detected') &\n",
        "    (df['Attack Type'].str.contains('watering hole', case=False, na=False)) &\n",
        "    (df['Source Country'].str.lower() == 'japan')\n",
        "].copy()\n",
        "\n",
        "# Assign port range label to each row based on destination port\n",
        "def assign_port_range(port):\n",
        "    for label, (start, end) in port_ranges.items():\n",
        "        if start <= port <= end:\n",
        "            return label\n",
        "    return 'Unknown'\n",
        "\n",
        "filtered_df['Port Range'] = filtered_df['Destination Port'].apply(assign_port_range)\n",
        "\n",
        "# Count frequency of attacks per port range\n",
        "port_range_counts = (\n",
        "    filtered_df\n",
        "    .groupby('Port Range')\n",
        "    .size()\n",
        "    .reset_index(name='Attack Count')\n",
        "    .sort_values(by='Attack Count', ascending=False)\n",
        ")\n",
        "\n",
        "# Output the result\n",
        "print(\"Frequency of detected Watering Hole Attacks from Japan by destination port range:\")\n",
        "print(port_range_counts)\n",
        "\n",
        "if not port_range_counts.empty:\n",
        "    top_range = port_range_counts.iloc[0]\n",
        "    print(f\"\\nPort range with highest frequency: {top_range['Port Range']} ({top_range['Attack Count']} attacks)\")\n",
        "else:\n",
        "    print(\"No matching detected Watering Hole Attacks from Japan found.\")\n"
      ],
      "metadata": {
        "colab": {
          "base_uri": "https://localhost:8080/"
        },
        "id": "rrkoS5zdgTjK",
        "outputId": "44911e43-65ae-4070-d013-bc738f3db75c"
      },
      "execution_count": null,
      "outputs": [
        {
          "output_type": "stream",
          "name": "stdout",
          "text": [
            "Frequency of detected Watering Hole Attacks from Japan by destination port range:\n",
            "    Port Range  Attack Count\n",
            "5  50000-65535            59\n",
            "0       0-9999            53\n",
            "4  40000-49999            41\n",
            "3  30000-39999            39\n",
            "1  10000-19999            32\n",
            "2  20000-29999            28\n",
            "\n",
            "Port range with highest frequency: 50000-65535 (59 attacks)\n"
          ]
        }
      ]
    },
    {
      "cell_type": "code",
      "source": [
        "import pandas as pd\n",
        "import numpy as np\n",
        "\n",
        "# Ensure Timestamp is datetime\n",
        "df['Timestamp'] = pd.to_datetime(df['Timestamp'], errors='coerce')\n",
        "\n",
        "# Filter for detected DDoS attacks on Firewall systems in 2024\n",
        "filtered_df = df[\n",
        "    (df['Timestamp'].dt.year == 2024) &\n",
        "    (df['Detection Label'].str.lower() == 'detected') &\n",
        "    (df['Attack Type'].str.contains('distributed denial of service|ddos', case=False, na=False)) &\n",
        "    (df['Affected System'].str.contains('firewall', case=False, na=False))\n",
        "].copy()\n",
        "\n",
        "# Calculate median payload size across these filtered attacks\n",
        "median_payload = filtered_df['Payload Size (bytes)'].median()\n",
        "\n",
        "# Keep only attacks with payload size above median\n",
        "filtered_df = filtered_df[filtered_df['Payload Size (bytes)'] > median_payload]\n",
        "\n",
        "# Define a function to map month to quarter label\n",
        "def month_to_quarter(month):\n",
        "    if month in [1, 2, 3]:\n",
        "        return 'Q1 (Jan-Mar)'\n",
        "    elif month in [4, 5, 6]:\n",
        "        return 'Q2 (Apr-Jun)'\n",
        "    elif month in [7, 8, 9]:\n",
        "        return 'Q3 (Jul-Sep)'\n",
        "    else:\n",
        "        return 'Q4 (Oct-Dec)'\n",
        "\n",
        "# Create a 'Quarter' column\n",
        "filtered_df['Quarter'] = filtered_df['Timestamp'].dt.month.apply(month_to_quarter)\n",
        "\n",
        "# Group by Quarter and count attacks\n",
        "quarter_counts = (\n",
        "    filtered_df\n",
        "    .groupby('Quarter')\n",
        "    .size()\n",
        "    .reset_index(name='Attack Count')\n",
        "    .sort_values(by='Attack Count', ascending=False)\n",
        ")\n",
        "\n",
        "# Get the quarter with the highest number of attacks\n",
        "top_quarter = quarter_counts.iloc[0]\n",
        "\n",
        "print(\"Quarter in 2024 when Firewall systems faced the most detected DDoS attacks with payload size above median:\")\n",
        "print(f\"{top_quarter['Quarter']} with {top_quarter['Attack Count']} attacks\")\n"
      ],
      "metadata": {
        "colab": {
          "base_uri": "https://localhost:8080/"
        },
        "id": "79OYuEgqjAxQ",
        "outputId": "8d9067d8-f332-4a6a-d112-bacde7047c84"
      },
      "execution_count": null,
      "outputs": [
        {
          "output_type": "stream",
          "name": "stdout",
          "text": [
            "Quarter in 2024 when Firewall systems faced the most detected DDoS attacks with payload size above median:\n",
            "Q2 (Apr-Jun) with 4 attacks\n"
          ]
        }
      ]
    }
  ]
}